{
 "cells": [
  {
   "cell_type": "code",
   "execution_count": 2,
   "metadata": {},
   "outputs": [],
   "source": [
    "import pandas as pd\n",
    "import numpy as np\n",
    "import matplotlib.pyplot as pltimport"
   ]
  },
  {
   "cell_type": "code",
   "execution_count": 3,
   "metadata": {},
   "outputs": [
    {
     "name": "stdout",
     "output_type": "stream",
     "text": [
      "(1460, 81)\n",
      "(1459, 80)\n"
     ]
    }
   ],
   "source": [
    "train=pd.read_csv(\"train.csv\")\n",
    "test=pd.read_csv(\"test.csv\")\n",
    "print(train.shape)\n",
    "print(test.shape)"
   ]
  },
  {
   "cell_type": "code",
   "execution_count": 4,
   "metadata": {},
   "outputs": [
    {
     "name": "stderr",
     "output_type": "stream",
     "text": [
      "C:\\Users\\samuelmao\\Anaconda3\\lib\\site-packages\\ipykernel_launcher.py:1: FutureWarning: Sorting because non-concatenation axis is not aligned. A future version\n",
      "of pandas will change to not sort by default.\n",
      "\n",
      "To accept the future behavior, pass 'sort=True'.\n",
      "\n",
      "To retain the current behavior and silence the warning, pass sort=False\n",
      "\n",
      "  \"\"\"Entry point for launching an IPython kernel.\n"
     ]
    },
    {
     "data": {
      "text/plain": [
       "(2919, 81)"
      ]
     },
     "execution_count": 4,
     "metadata": {},
     "output_type": "execute_result"
    }
   ],
   "source": [
    "combined=pd.concat([train,test])\n",
    "combined.shape #2919\n",
    "#combined.iloc[:1460:,:] #train\n",
    "#combined.iloc[1460:,:] #test"
   ]
  },
  {
   "cell_type": "code",
   "execution_count": 5,
   "metadata": {},
   "outputs": [],
   "source": [
    "combined=combined.reset_index()"
   ]
  },
  {
   "cell_type": "code",
   "execution_count": 6,
   "metadata": {},
   "outputs": [],
   "source": [
    "from preprocess import impute\n",
    "all_data, encodedDic = impute (combined, False)\n",
    "all_data_onehot, encodedDic = impute (combined, True) #one-hot"
   ]
  },
  {
   "cell_type": "code",
   "execution_count": 7,
   "metadata": {},
   "outputs": [],
   "source": [
    "train=all_data.iloc[:1460:,:] #train\n",
    "train_y=train[\"SalePrice\"]\n",
    "train_x=train[train.columns[train.columns!=\"SalePrice\"]]\n",
    "test=test.iloc[1460:,:]\n",
    "\n",
    "train_onehot=all_data_onehot.iloc[:1460:,:] #train\n",
    "train_y_onehot=train_onehot[\"SalePrice\"]\n",
    "train_x_onehot=train_onehot[train_onehot.columns[train_onehot.columns!=\"SalePrice\"]]\n",
    "test_onehot=train_onehot.iloc[1460:,:]\n"
   ]
  },
  {
   "cell_type": "markdown",
   "metadata": {},
   "source": [
    "## RF: label encoding"
   ]
  },
  {
   "cell_type": "code",
   "execution_count": 42,
   "metadata": {},
   "outputs": [
    {
     "data": {
      "text/plain": [
       "GridSearchCV(cv=5, error_score='raise',\n",
       "       estimator=RandomForestRegressor(bootstrap=True, criterion='mse', max_depth=None,\n",
       "           max_features='auto', max_leaf_nodes=None,\n",
       "           min_impurity_decrease=0.0, min_impurity_split=None,\n",
       "           min_samples_leaf=1, min_samples_split=2,\n",
       "           min_weight_fraction_leaf=0.0, n_estimators=10, n_jobs=1,\n",
       "           oob_score=False, random_state=None, verbose=0, warm_start=False),\n",
       "       fit_params=None, iid=True, n_jobs=-1,\n",
       "       param_grid=[{'n_estimators': [120], 'max_features': ['sqrt'], 'criterion': ['mse'], 'min_samples_leaf': [1], 'min_samples_split': [4], 'oob_score': [True], 'random_state': [42]}],\n",
       "       pre_dispatch='2*n_jobs', refit=True, return_train_score='warn',\n",
       "       scoring='neg_mean_squared_error', verbose=0)"
      ]
     },
     "execution_count": 42,
     "metadata": {},
     "output_type": "execute_result"
    }
   ],
   "source": [
    "##Grid Search\n",
    "from sklearn import ensemble\n",
    "from sklearn import model_selection\n",
    "randomForest = ensemble.RandomForestRegressor()\n",
    "grid_para_forest = [{\n",
    "    \"n_estimators\": [120],\n",
    "    \"max_features\": [\"sqrt\"],\n",
    "    \"criterion\": [\"mse\"],\n",
    "    \"min_samples_leaf\": [1],\n",
    "    \"min_samples_split\": [4],\n",
    "    \"oob_score\": [True],\n",
    "    \"random_state\": [42]}]\n",
    "grid_search_forest = model_selection.GridSearchCV(randomForest, grid_para_forest, scoring='neg_mean_squared_error', cv=5, n_jobs=-1)\n",
    "grid_search_forest.fit(train_x, train_y)"
   ]
  },
  {
   "cell_type": "code",
   "execution_count": 25,
   "metadata": {},
   "outputs": [
    {
     "name": "stdout",
     "output_type": "stream",
     "text": [
      "{'criterion': 'mse', 'max_features': 'sqrt', 'min_samples_leaf': 1, 'min_samples_split': 4, 'n_estimators': 120, 'oob_score': True, 'random_state': 42}\n",
      "-848421620.3827785\n"
     ]
    }
   ],
   "source": [
    "print(grid_search_forest.best_params_)\n",
    "print(grid_search_forest.best_score_)"
   ]
  },
  {
   "cell_type": "code",
   "execution_count": 57,
   "metadata": {},
   "outputs": [
    {
     "data": {
      "text/plain": [
       "931896202.7753068"
      ]
     },
     "execution_count": 57,
     "metadata": {},
     "output_type": "execute_result"
    }
   ],
   "source": [
    "## Model fitting\n",
    "from sklearn.model_selection import train_test_split\n",
    "from sklearn import ensemble\n",
    "from sklearn.metrics import mean_squared_error\n",
    "import matplotlib.pyplot as plt\n",
    "\n",
    "X_train, X_test, y_train, y_test = train_test_split(train_x, train_y, test_size=0.3, random_state=98)\n",
    "params={\"n_estimators\":120, \"max_features\": \"sqrt\", \"criterion\": \"mse\", \"min_samples_leaf\": 1, \"min_samples_split\": 4,\"oob_score\": True,\"random_state\": 42}\n",
    "randomForest = ensemble.RandomForestRegressor(**params)\n",
    "randomForest.fit(X_train,y_train)\n",
    "mse=mean_squared_error(y_test, randomForest.predict(X_test))\n",
    "mse\n"
   ]
  },
  {
   "cell_type": "code",
   "execution_count": null,
   "metadata": {},
   "outputs": [],
   "source": [
    "feature_importance = list(zip(train_x.columns[:-2], randomForest.feature_importances_))\n",
    "dtype = [('feature', 'S10'), ('importance', 'float')]\n",
    "feature_importance = np.array(feature_importance, dtype=dtype)\n",
    "feature_sort = np.sort(feature_importance, order='importance')[::-1]\n",
    "feature_sort"
   ]
  },
  {
   "cell_type": "markdown",
   "metadata": {},
   "source": [
    "## RF one-hot"
   ]
  },
  {
   "cell_type": "code",
   "execution_count": 58,
   "metadata": {},
   "outputs": [
    {
     "data": {
      "text/plain": [
       "GridSearchCV(cv=5, error_score='raise',\n",
       "       estimator=RandomForestRegressor(bootstrap=True, criterion='mse', max_depth=None,\n",
       "           max_features='auto', max_leaf_nodes=None,\n",
       "           min_impurity_decrease=0.0, min_impurity_split=None,\n",
       "           min_samples_leaf=1, min_samples_split=2,\n",
       "           min_weight_fraction_leaf=0.0, n_estimators=10, n_jobs=1,\n",
       "           oob_score=False, random_state=None, verbose=0, warm_start=False),\n",
       "       fit_params=None, iid=True, n_jobs=-1,\n",
       "       param_grid=[{'n_estimators': [120], 'max_features': ['sqrt'], 'criterion': ['mse'], 'min_samples_leaf': [1], 'min_samples_split': [4], 'oob_score': [True], 'random_state': [42]}],\n",
       "       pre_dispatch='2*n_jobs', refit=True, return_train_score='warn',\n",
       "       scoring='neg_mean_squared_error', verbose=0)"
      ]
     },
     "execution_count": 58,
     "metadata": {},
     "output_type": "execute_result"
    }
   ],
   "source": [
    "##Grid Search\n",
    "from sklearn import ensemble\n",
    "from sklearn import model_selection\n",
    "randomForest = ensemble.RandomForestRegressor()\n",
    "grid_para_forest = [{\n",
    "    \"n_estimators\": [120],\n",
    "    \"max_features\": [\"sqrt\"],\n",
    "    \"criterion\": [\"mse\"],\n",
    "    \"min_samples_leaf\": [1],\n",
    "    \"min_samples_split\": [4],\n",
    "    \"oob_score\": [True],\n",
    "    \"random_state\": [42]}]\n",
    "grid_search_forest = model_selection.GridSearchCV(randomForest, grid_para_forest, scoring='neg_mean_squared_error', cv=5, n_jobs=-1)\n",
    "grid_search_forest.fit(train_x_onehot, train_y_onehot)"
   ]
  },
  {
   "cell_type": "code",
   "execution_count": 59,
   "metadata": {},
   "outputs": [
    {
     "name": "stdout",
     "output_type": "stream",
     "text": [
      "{'criterion': 'mse', 'max_features': 'sqrt', 'min_samples_leaf': 1, 'min_samples_split': 4, 'n_estimators': 120, 'oob_score': True, 'random_state': 42}\n",
      "-912016494.9534297\n"
     ]
    }
   ],
   "source": [
    "print(grid_search_forest.best_params_)\n",
    "print(grid_search_forest.best_score_)"
   ]
  },
  {
   "cell_type": "code",
   "execution_count": 60,
   "metadata": {},
   "outputs": [
    {
     "data": {
      "text/plain": [
       "886540227.1488433"
      ]
     },
     "execution_count": 60,
     "metadata": {},
     "output_type": "execute_result"
    }
   ],
   "source": [
    "## Model fitting\n",
    "from sklearn.model_selection import train_test_split\n",
    "from sklearn import ensemble\n",
    "from sklearn.metrics import mean_squared_error\n",
    "import matplotlib.pyplot as plt\n",
    "\n",
    "X_train, X_test, y_train, y_test = train_test_split(train_x_onehot, train_y_onehot, test_size=0.3, random_state=98)\n",
    "params={\"n_estimators\":120, \"max_features\": \"sqrt\", \"criterion\": \"mse\", \"min_samples_leaf\": 1, \"min_samples_split\": 4,\"oob_score\": True,\"random_state\": 42}\n",
    "randomForest = ensemble.RandomForestRegressor(**params)\n",
    "randomForest.fit(X_train,y_train)\n",
    "mse=mean_squared_error(y_test, randomForest.predict(X_test))\n",
    "mse\n"
   ]
  },
  {
   "cell_type": "code",
   "execution_count": 62,
   "metadata": {},
   "outputs": [
    {
     "data": {
      "text/plain": [
       "array([(b'OverallQua', 8.93884629e-02), (b'TotalFlrSF', 7.60985762e-02),\n",
       "       (b'GrLivArea', 6.64768126e-02), (b'YearBuilt', 5.08041362e-02),\n",
       "       (b'GarageCars', 4.61653310e-02), (b'TotalBsmtS', 3.82928249e-02),\n",
       "       (b'BsmtQual', 3.77060766e-02), (b'KitchenQua', 3.33367002e-02),\n",
       "       (b'GarageArea', 3.29475059e-02), (b'1stFlrSF', 3.26868442e-02),\n",
       "       (b'FullBath', 2.75943618e-02), (b'Bsmt_GLQ', 2.63198705e-02),\n",
       "       (b'GarageYrBl', 2.48776676e-02), (b'YearRemodA', 2.24358899e-02),\n",
       "       (b'TotRmsAbvG', 2.23495488e-02), (b'ExterQual', 2.19681485e-02),\n",
       "       (b'LotArea', 2.14525436e-02), (b'FireplaceQ', 2.03310588e-02),\n",
       "       (b'2ndFlrSF', 1.84905930e-02), (b'Fireplaces', 1.61424316e-02),\n",
       "       (b'MasVnr_Brk', 1.48874618e-02), (b'OpenPorchS', 1.35584485e-02),\n",
       "       (b'Foundation', 1.17628528e-02), (b'LotFrontag', 1.10707430e-02),\n",
       "       (b'HeatingQC', 7.54744374e-03), (b'WoodDeckSF', 7.50954472e-03),\n",
       "       (b'TotalProch', 7.03355229e-03), (b'MSSubClass', 6.83015880e-03),\n",
       "       (b'MasVnr_Sto', 6.69955492e-03), (b'BedroomAbv', 6.68561881e-03),\n",
       "       (b'BsmtExposu', 6.02818887e-03), (b'Neighborho', 5.93466669e-03),\n",
       "       (b'Id', 5.88261578e-03), (b'Foundation', 5.87113146e-03),\n",
       "       (b'Bsmt_Unf', 5.80038315e-03), (b'index', 4.92973490e-03),\n",
       "       (b'SaleType_N', 4.39952739e-03), (b'HalfBath', 4.31423181e-03),\n",
       "       (b'RoofStyle_', 4.08563640e-03), (b'BsmtExposu', 4.03651287e-03),\n",
       "       (b'GarageFini', 3.99574003e-03), (b'OverallCon', 3.90864955e-03),\n",
       "       (b'MSZoning_R', 3.89627602e-03), (b'MoSold', 3.87915443e-03),\n",
       "       (b'BsmtBath', 3.82018297e-03), (b'PoolQC', 3.76584158e-03),\n",
       "       (b'GarageType', 3.47796636e-03), (b'GarageCond', 3.41848981e-03),\n",
       "       (b'Neighborho', 3.10772266e-03), (b'RoofMatl_W', 3.03723560e-03),\n",
       "       (b'GarageFini', 2.89829274e-03), (b'GarageType', 2.55900585e-03),\n",
       "       (b'HouseStyle', 2.53915481e-03), (b'PoolArea', 2.32267885e-03),\n",
       "       (b'SaleCondit', 2.31284954e-03), (b'YrSold', 2.24323662e-03),\n",
       "       (b'MSZoning_R', 2.16888785e-03), (b'GarageQual', 2.09861939e-03),\n",
       "       (b'RoofStyle_', 2.08479445e-03), (b'HouseStyle', 2.08410268e-03),\n",
       "       (b'LotShape_R', 1.98986559e-03), (b'CentralAir', 1.93242372e-03),\n",
       "       (b'Bsmt_ALQ', 1.89206883e-03), (b'ExterCond', 1.87655974e-03),\n",
       "       (b'KitchenAbv', 1.77133087e-03), (b'BsmtCond', 1.74151016e-03),\n",
       "       (b'GarageType', 1.63594350e-03), (b'Exterior_C', 1.57048607e-03),\n",
       "       (b'Exterior_H', 1.54726740e-03), (b'SaleCondit', 1.51698771e-03),\n",
       "       (b'EnclosedPo', 1.41232676e-03), (b'ScreenPorc', 1.39722352e-03),\n",
       "       (b'SaleType_W', 1.36438565e-03), (b'Exterior_I', 1.31040726e-03),\n",
       "       (b'Neighborho', 1.29557058e-03), (b'Exterior_V', 1.24839069e-03),\n",
       "       (b'LotConfig_', 1.24729718e-03), (b'GarageFini', 1.24063263e-03),\n",
       "       (b'PavedDrive', 1.22101950e-03), (b'LandContou', 1.18234250e-03),\n",
       "       (b'Exterior_B', 1.16205228e-03), (b'GarageType', 1.11201939e-03),\n",
       "       (b'RoofMatl_C', 1.10674828e-03), (b'Exterior_S', 1.07244497e-03),\n",
       "       (b'LotConfig_', 1.05590425e-03), (b'Neighborho', 1.04199638e-03),\n",
       "       (b'LotShape_I', 1.03000991e-03), (b'Electrical', 9.95249281e-04),\n",
       "       (b'Fence_nan', 9.81336275e-04), (b'Neighborho', 9.13608310e-04),\n",
       "       (b'Functional', 8.87195154e-04), (b'Neighborho', 8.49417867e-04),\n",
       "       (b'LotShape_I', 8.49183457e-04), (b'MSSubClass', 7.89863190e-04),\n",
       "       (b'Bsmt_BLQ', 7.55470521e-04), (b'LandContou', 7.10890744e-04),\n",
       "       (b'Exterior_W', 6.92680163e-04), (b'BsmtExposu', 6.88486432e-04),\n",
       "       (b'Bsmt_Rec', 6.82874494e-04), (b'Condition1', 6.46371524e-04),\n",
       "       (b'Neighborho', 6.26052655e-04), (b'LandContou', 6.03693225e-04),\n",
       "       (b'Functional', 5.87188396e-04), (b'Exterior_W', 5.77276740e-04),\n",
       "       (b'BldgType_T', 5.64227674e-04), (b'Neighborho', 5.36120213e-04),\n",
       "       (b'Alley_nan', 5.32133519e-04), (b'MSSubClass', 5.30605685e-04),\n",
       "       (b'Neighborho', 5.15432189e-04), (b'Heating_Ga', 5.06963621e-04),\n",
       "       (b'MSSubClass', 5.00082281e-04), (b'LandSlope_', 4.93072605e-04),\n",
       "       (b'Neighborho', 4.46267034e-04), (b'Neighborho', 4.43279090e-04),\n",
       "       (b'Fence_GdWo', 4.37935007e-04), (b'Exterior_M', 4.28576385e-04),\n",
       "       (b'MSSubClass', 4.28151998e-04), (b'Neighborho', 4.08069538e-04),\n",
       "       (b'BsmtExposu', 4.03471643e-04), (b'Condition1', 4.02854312e-04),\n",
       "       (b'LandSlope_', 3.92522870e-04), (b'MSSubClass', 3.78208741e-04),\n",
       "       (b'Bsmt_LwQ', 3.65074062e-04), (b'Neighborho', 3.62459828e-04),\n",
       "       (b'Fence_MnPr', 3.58322385e-04), (b'3SsnPorch', 3.32772348e-04),\n",
       "       (b'Neighborho', 3.28766720e-04), (b'Heating_Ga', 3.24292946e-04),\n",
       "       (b'Exterior_P', 3.14727786e-04), (b'MSSubClass', 3.06065781e-04),\n",
       "       (b'Neighborho', 2.84741912e-04), (b'SaleCondit', 2.81848191e-04),\n",
       "       (b'MSZoning_F', 2.70512340e-04), (b'BldgType_D', 2.68145858e-04),\n",
       "       (b'Neighborho', 2.63126985e-04), (b'GarageType', 2.42457590e-04),\n",
       "       (b'Neighborho', 2.40387313e-04), (b'SaleCondit', 2.32537972e-04),\n",
       "       (b'MiscVal', 2.25140534e-04), (b'MSSubClass', 2.09881174e-04),\n",
       "       (b'HouseStyle', 1.97740696e-04), (b'Alley_Pave', 1.93651245e-04),\n",
       "       (b'BldgType_2', 1.79960068e-04), (b'Functional', 1.76519207e-04),\n",
       "       (b'MSSubClass', 1.66046058e-04), (b'MiscFeatur', 1.65956789e-04),\n",
       "       (b'Neighborho', 1.60725565e-04), (b'Condition2', 1.59806035e-04),\n",
       "       (b'Foundation', 1.57927046e-04), (b'Electrical', 1.54909650e-04),\n",
       "       (b'Condition1', 1.52198523e-04), (b'LowQualFin', 1.50150960e-04),\n",
       "       (b'MSSubClass', 1.49013760e-04), (b'Neighborho', 1.41832584e-04),\n",
       "       (b'Condition1', 1.36038709e-04), (b'GarageType', 1.26723721e-04),\n",
       "       (b'LotConfig_', 1.22367538e-04), (b'Neighborho', 1.17695190e-04),\n",
       "       (b'HouseStyle', 1.15358078e-04), (b'MasVnr_Brk', 1.14228140e-04),\n",
       "       (b'Exterior_S', 1.09227940e-04), (b'Street_Pav', 1.07787863e-04),\n",
       "       (b'HouseStyle', 1.07601479e-04), (b'BldgType_T', 1.03241110e-04),\n",
       "       (b'Heating_Gr', 1.00315363e-04), (b'MiscFeatur', 9.98805799e-05),\n",
       "       (b'Neighborho', 9.97590087e-05), (b'RoofStyle_', 9.50231194e-05),\n",
       "       (b'RoofMatl_T', 9.28491543e-05), (b'RoofMatl_W', 8.30629654e-05),\n",
       "       (b'PavedDrive', 8.11069571e-05), (b'Functional', 7.95003808e-05),\n",
       "       (b'Neighborho', 7.48714731e-05), (b'Condition1', 6.93957531e-05),\n",
       "       (b'Functional', 6.48988214e-05), (b'Condition2', 5.99515569e-05),\n",
       "       (b'MSSubClass', 5.95976496e-05), (b'Exterior_A', 5.52778694e-05),\n",
       "       (b'SaleType_C', 4.96305683e-05), (b'HouseStyle', 4.77910189e-05),\n",
       "       (b'SaleType_C', 4.76814092e-05), (b'HouseStyle', 4.75984452e-05),\n",
       "       (b'Electrical', 4.70641461e-05), (b'SaleType_C', 4.29952259e-05),\n",
       "       (b'Foundation', 3.81712567e-05), (b'MSZoning_R', 3.46527673e-05),\n",
       "       (b'MSSubClass', 3.21673694e-05), (b'Condition1', 3.15787703e-05),\n",
       "       (b'MSSubClass', 2.60696316e-05), (b'MSSubClass', 2.26014733e-05),\n",
       "       (b'Condition2', 1.90411907e-05), (b'SaleType_C', 1.84024164e-05),\n",
       "       (b'MasVnr_Unk', 1.75819920e-05), (b'SaleType_C', 1.73367689e-05),\n",
       "       (b'RoofMatl_M', 1.67769258e-05), (b'Functional', 1.67712826e-05),\n",
       "       (b'Fence_MnWw', 1.37178436e-05), (b'SaleType_O', 1.32675817e-05),\n",
       "       (b'SaleCondit', 1.32286190e-05), (b'Neighborho', 1.14949575e-05),\n",
       "       (b'Electrical', 1.00999871e-05), (b'Heating_Wa', 8.68107517e-06),\n",
       "       (b'Bsmt_Unkno', 7.66055954e-06), (b'MasVnr_Non', 7.15495975e-06),\n",
       "       (b'Exterior_C', 6.33620946e-06), (b'Utilities_', 6.04492184e-06),\n",
       "       (b'RoofStyle_', 5.26246818e-06), (b'Exterior_B', 5.23739961e-06),\n",
       "       (b'LotConfig_', 4.23603054e-06), (b'Foundation', 1.65213831e-06),\n",
       "       (b'Electrical', 1.43183653e-06), (b'MiscFeatur', 1.09681202e-06),\n",
       "       (b'Neighborho', 9.26080213e-07), (b'Condition2', 7.21130128e-07),\n",
       "       (b'Exterior_A', 6.96799438e-07), (b'Condition1', 5.25975517e-07),\n",
       "       (b'RoofMatl_R', 4.32821161e-07), (b'Heating_Ot', 4.17507619e-07),\n",
       "       (b'Utilities_', 0.00000000e+00), (b'Street_nan', 0.00000000e+00),\n",
       "       (b'SaleType_n', 0.00000000e+00), (b'SaleCondit', 0.00000000e+00),\n",
       "       (b'RoofStyle_', 0.00000000e+00), (b'RoofStyle_', 0.00000000e+00),\n",
       "       (b'RoofMatl_n', 0.00000000e+00), (b'RoofMatl_M', 0.00000000e+00),\n",
       "       (b'PavedDrive', 0.00000000e+00), (b'Neighborho', 0.00000000e+00),\n",
       "       (b'MiscFeatur', 0.00000000e+00), (b'MSZoning_n', 0.00000000e+00),\n",
       "       (b'MSSubClass', 0.00000000e+00), (b'MSSubClass', 0.00000000e+00),\n",
       "       (b'LotShape_n', 0.00000000e+00), (b'LotConfig_', 0.00000000e+00),\n",
       "       (b'LandSlope_', 0.00000000e+00), (b'LandContou', 0.00000000e+00),\n",
       "       (b'HouseStyle', 0.00000000e+00), (b'Heating_na', 0.00000000e+00),\n",
       "       (b'Functional', 0.00000000e+00), (b'Foundation', 0.00000000e+00),\n",
       "       (b'Exterior_U', 0.00000000e+00), (b'Exterior_O', 0.00000000e+00),\n",
       "       (b'Condition2', 0.00000000e+00), (b'Condition2', 0.00000000e+00),\n",
       "       (b'Condition2', 0.00000000e+00), (b'Condition2', 0.00000000e+00),\n",
       "       (b'Condition1', 0.00000000e+00), (b'Condition1', 0.00000000e+00),\n",
       "       (b'CentralAir', 0.00000000e+00), (b'BldgType_n', 0.00000000e+00)],\n",
       "      dtype=[('feature', 'S10'), ('importance', '<f8')])"
      ]
     },
     "execution_count": 62,
     "metadata": {},
     "output_type": "execute_result"
    }
   ],
   "source": [
    "feature_importance = list(zip(train_x_onehot.columns, randomForest.feature_importances_))\n",
    "dtype = [('feature', 'S10'), ('importance', 'float')]\n",
    "feature_importance = np.array(feature_importance, dtype=dtype)\n",
    "feature_sort = np.sort(feature_importance, order='importance')[::-1]\n",
    "feature_sort"
   ]
  },
  {
   "cell_type": "code",
   "execution_count": null,
   "metadata": {},
   "outputs": [],
   "source": []
  }
 ],
 "metadata": {
  "kernelspec": {
   "display_name": "Python 3",
   "language": "python",
   "name": "python3"
  },
  "language_info": {
   "codemirror_mode": {
    "name": "ipython",
    "version": 3
   },
   "file_extension": ".py",
   "mimetype": "text/x-python",
   "name": "python",
   "nbconvert_exporter": "python",
   "pygments_lexer": "ipython3",
   "version": "3.6.5"
  }
 },
 "nbformat": 4,
 "nbformat_minor": 2
}
