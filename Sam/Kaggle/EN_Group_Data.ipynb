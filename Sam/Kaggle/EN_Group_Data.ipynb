{
 "cells": [
  {
   "cell_type": "code",
   "execution_count": 1,
   "metadata": {},
   "outputs": [
    {
     "name": "stdout",
     "output_type": "stream",
     "text": [
      "(1460, 81)\n",
      "(1459, 80)\n"
     ]
    },
    {
     "name": "stderr",
     "output_type": "stream",
     "text": [
      "C:\\Users\\samuelmao\\Anaconda3\\lib\\site-packages\\ipykernel_launcher.py:11: FutureWarning: Sorting because non-concatenation axis is not aligned. A future version\n",
      "of pandas will change to not sort by default.\n",
      "\n",
      "To accept the future behavior, pass 'sort=True'.\n",
      "\n",
      "To retain the current behavior and silence the warning, pass sort=False\n",
      "\n",
      "  # This is added back by InteractiveShellApp.init_path()\n"
     ]
    }
   ],
   "source": [
    "## Data Processing\n",
    "import pandas as pd\n",
    "import numpy as np\n",
    "import matplotlib.pyplot as pltimport\n",
    "\n",
    "train=pd.read_csv(\"train.csv\")\n",
    "test=pd.read_csv(\"test.csv\")\n",
    "print(train.shape)\n",
    "print(test.shape)\n",
    "\n",
    "combined=pd.concat([train,test])\n",
    "combined.shape #2919\n",
    "#combined.iloc[:1460:,:] #train\n",
    "#combined.iloc[1460:,:] #test\n",
    "\n",
    "combined=combined.reset_index()\n",
    "\n",
    "from preprocess import impute\n",
    "all_data, encodedDic = impute (combined, False)\n",
    "all_data_onehot, encodedDic = impute (combined, True) #one-hot\n",
    "\n",
    "train=all_data.iloc[:1460:,:] #train\n",
    "train_y=train[\"SalePrice\"]\n",
    "train_x=train[train.columns[train.columns!=\"SalePrice\"]]\n",
    "test=all_data.iloc[1460:,:]\n",
    "\n",
    "train_onehot=all_data_onehot.iloc[:1460:,:] #train\n",
    "train_y_onehot=train_onehot[\"SalePrice\"]\n",
    "train_x_onehot=train_onehot[train_onehot.columns[train_onehot.columns!=\"SalePrice\"]]\n",
    "test_onehot=all_data_onehot.iloc[1460:,:].drop(columns=\"SalePrice\")\n"
   ]
  },
  {
   "cell_type": "code",
   "execution_count": null,
   "metadata": {},
   "outputs": [],
   "source": [
    "##Parameter tuning"
   ]
  },
  {
   "cell_type": "code",
   "execution_count": null,
   "metadata": {},
   "outputs": [],
   "source": [
    "from sklearn.linear_model import ElasticNet\n",
    "from sklearn.datasets import make_regression\n",
    "\n",
    "X, y = make_regression(n_features=2, random_state=0)\n",
    "regr = ElasticNet(random_state=0)\n",
    "regr.fit(X, y)\n",
    "ElasticNet(alpha=1.0, copy_X=True, fit_intercept=True, l1_ratio=(0.5,\n",
    "      max_iter=1000, normalize=False, positive=False, precompute=False,\n",
    "      random_state=0, selection='cyclic', tol=0.0001, warm_start=False)\n",
    "print(regr.coef_) \n",
    "print(regr.intercept_) \n",
    "print(regr.predict([[0, 0]])) \n"
   ]
  }
 ],
 "metadata": {
  "kernelspec": {
   "display_name": "Python 3",
   "language": "python",
   "name": "python3"
  },
  "language_info": {
   "codemirror_mode": {
    "name": "ipython",
    "version": 3
   },
   "file_extension": ".py",
   "mimetype": "text/x-python",
   "name": "python",
   "nbconvert_exporter": "python",
   "pygments_lexer": "ipython3",
   "version": "3.6.5"
  }
 },
 "nbformat": 4,
 "nbformat_minor": 2
}
