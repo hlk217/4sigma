{
 "cells": [
  {
   "cell_type": "code",
   "execution_count": 1,
   "metadata": {},
   "outputs": [],
   "source": [
    "import pandas as pd\n",
    "import matplotlib.pyplot as plt\n",
    "import numpy as np\n",
    "import re"
   ]
  },
  {
   "cell_type": "code",
   "execution_count": 2,
   "metadata": {},
   "outputs": [],
   "source": [
    "orders=pd.read_csv(\"Orders.csv\")"
   ]
  },
  {
   "cell_type": "markdown",
   "metadata": {},
   "source": [
    "### Problem 1: Dataset Import & Cleaning\n",
    "Check **\"Profit\"** and **\"Sales\"** in the dataset, convert these two columns to numeric type. \n"
   ]
  },
  {
   "cell_type": "code",
   "execution_count": 3,
   "metadata": {},
   "outputs": [
    {
     "data": {
      "text/plain": [
       "Index(['Row.ID', 'Order.ID', 'Order.Date', 'Ship.Date', 'Ship.Mode',\n",
       "       'Customer.ID', 'Customer.Name', 'Segment', 'Postal.Code', 'City',\n",
       "       'State', 'Country', 'Region', 'Market', 'Product.ID', 'Category',\n",
       "       'Sub.Category', 'Product.Name', 'Sales', 'Quantity', 'Discount',\n",
       "       'Profit', 'Shipping.Cost', 'Order.Priority'],\n",
       "      dtype='object')"
      ]
     },
     "execution_count": 3,
     "metadata": {},
     "output_type": "execute_result"
    }
   ],
   "source": [
    "orders.head()\n",
    "orders.columns\n",
    "#orders.shape"
   ]
  },
  {
   "cell_type": "code",
   "execution_count": 5,
   "metadata": {},
   "outputs": [
    {
     "data": {
      "text/plain": [
       "0          $221.98\n",
       "1        $3,709.40\n",
       "2        $5,175.17\n",
       "3        $2,892.51\n",
       "4        $2,832.96\n",
       "5        $2,862.68\n",
       "6        $1,822.08\n",
       "7        $5,244.84\n",
       "8          $341.96\n",
       "9           $48.71\n",
       "10          $17.94\n",
       "11       $4,626.15\n",
       "12       $2,616.96\n",
       "13       $2,221.80\n",
       "14       $3,701.52\n",
       "15       $1,869.59\n",
       "16          $12.62\n",
       "17       $7,958.58\n",
       "18       $2,565.59\n",
       "19       $3,409.74\n",
       "20       $1,977.72\n",
       "21         $242.94\n",
       "22       $2,754.00\n",
       "23       $5,273.70\n",
       "24       $1,713.84\n",
       "25       $2,106.50\n",
       "26       $1,715.16\n",
       "27       $3,069.74\n",
       "28         $247.84\n",
       "29       $1,878.72\n",
       "           ...    \n",
       "51260        $0.44\n",
       "51261      $823.96\n",
       "51262      $213.48\n",
       "51263       $36.48\n",
       "51264       $47.14\n",
       "51265      $259.96\n",
       "51266       $49.30\n",
       "51267       $61.44\n",
       "51268        $5.34\n",
       "51269      $200.40\n",
       "51270       $17.88\n",
       "51271       $71.12\n",
       "51272       $19.32\n",
       "51273        $5.92\n",
       "51274       $41.64\n",
       "51275        $9.61\n",
       "51276       $22.72\n",
       "51277       $34.13\n",
       "51278       $52.59\n",
       "51279        $5.36\n",
       "51280       $15.98\n",
       "51281       $84.00\n",
       "51282       $58.05\n",
       "51283       $26.94\n",
       "51284       $18.64\n",
       "51285       $65.10\n",
       "51286       $16.72\n",
       "51287        $8.56\n",
       "51288       $13.44\n",
       "51289       $61.38\n",
       "Name: Sales, Length: 51290, dtype: object"
      ]
     },
     "execution_count": 5,
     "metadata": {},
     "output_type": "execute_result"
    }
   ],
   "source": [
    "orders.Sales"
   ]
  },
  {
   "cell_type": "code",
   "execution_count": 292,
   "metadata": {},
   "outputs": [],
   "source": [
    "import re\n",
    "orders.Profit=orders.Profit.map(lambda x: float(re.sub(\"[$,]\",\"\",x)))\n",
    "import re\n",
    "orders.Sales=orders.Sales.map(lambda x: float(re.sub(\"[$,]\",\"\",x)))\n",
    "\n",
    "#Dumber way\n",
    "# orders[\"Sales\"]=orders[\"Sales\"].str.replace(\",\",\"\") # remove commas\n",
    "# orders[\"Sales\"]=orders[\"Sales\"].str.replace(\"$\", \"\") #remove dollar sign\n",
    "# orders[\"Sales\"]=orders[\"Sales\"].astype(float)\n",
    "\n",
    "\n",
    "# orders[\"Profit\"]=orders[\"Profit\"].str.replace(\"$\", \"\") \n",
    "# orders[\"Profit\"]=orders[\"Profit\"].str.replace(\",\", \"\") \n",
    "# orders[\"Profit\"]=orders[\"Profit\"].astype(float)"
   ]
  },
  {
   "cell_type": "code",
   "execution_count": 12,
   "metadata": {},
   "outputs": [
    {
     "data": {
      "image/png": "[encoded data removed]",
      "text/plain": [
       "<Figure size 432x288 with 1 Axes>"
      ]
     },
     "metadata": {},
     "output_type": "display_data"
    }
   ],
   "source": [
    "plt.hist(orders.Profit)\n",
    "plt.show()"
   ]
  },
  {
   "cell_type": "code",
   "execution_count": 13,
   "metadata": {},
   "outputs": [
    {
     "data": {
      "image/png": "[encoded data removed]",
      "text/plain": [
       "<Figure size 648x432 with 1 Axes>"
      ]
     },
     "metadata": {},
     "output_type": "display_data"
    }
   ],
   "source": [
    "x = orders[[\"Sales\"]] #MAKE IT dataframe for scikit learn\n",
    "y = orders[\"Profit\"]\n",
    "## do a scatter plot with data x and y\n",
    "#plt.figure(figsize=(9, 6))\n",
    "#plt.scatter(x, y, c='k')\n",
    "#plt.xlabel('Sales')\n",
    "#plt.ylabel('Profit')\n",
    "#plt.show()\n",
    "\n",
    "from sklearn import linear_model\n",
    "ols= linear_model.LinearRegression()\n",
    "ols.fit(X=x,y=y)\n",
    "plt.figure(figsize=(9, 6))\n",
    "plt.scatter(x, y, c='k')\n",
    "plt.xlabel('Sales')\n",
    "plt.ylabel('Profit')\n",
    "plt.plot(x, ols.predict(x), c='r', lw=1.5, label='Predicted relation')\n",
    "plt.show()"
   ]
  },
  {
   "cell_type": "markdown",
   "metadata": {},
   "source": [
    "### Problem 2: Inventory Management\n",
    "- Retailers that depend on seasonal shoppers have a particularly challenging job when it comes to inventory management. Your manager is making plans for next year's inventory.\n",
    "- He wants you to answer the following questions:\n",
    "    1. Is there any seasonal trend of inventory in the company?\n",
    "    2. Is the seasonal trend the same for different categories?"
   ]
  },
  {
   "cell_type": "code",
   "execution_count": 15,
   "metadata": {},
   "outputs": [],
   "source": [
    "orders[\"Order.Date\"]\n",
    "orders[\"Order.Date\"]=pd.to_datetime(orders[\"Order.Date\"]) #use pandas to convert to datetime\n",
    "orders[\"Ship.Date\"]=pd.to_datetime(orders[\"Ship.Date\"])\n",
    "\n",
    "                                   "
   ]
  },
  {
   "cell_type": "code",
   "execution_count": 16,
   "metadata": {},
   "outputs": [],
   "source": [
    "orders[\"Order.Year\"]=orders[\"Order.Date\"].dt.year\n",
    "orders[\"Order.Month\"]=orders[\"Order.Date\"].dt.month\n",
    "orders[\"Order.Day\"]=orders[\"Order.Date\"].dt.dayofyear"
   ]
  },
  {
   "cell_type": "code",
   "execution_count": 17,
   "metadata": {},
   "outputs": [
    {
     "data": {
      "image/png": "[encoded data removed]",
      "text/plain": [
       "<Figure size 432x288 with 1 Axes>"
      ]
     },
     "metadata": {},
     "output_type": "display_data"
    }
   ],
   "source": [
    "trenddata=orders.groupby([\"Order.Day\"])[[\"Quantity\"]].sum()\n",
    "trenddata.plot()\n",
    "plt.show()"
   ]
  },
  {
   "cell_type": "code",
   "execution_count": 19,
   "metadata": {
    "scrolled": true
   },
   "outputs": [
    {
     "data": {
      "text/plain": [
       "<matplotlib.axes._subplots.AxesSubplot at 0x184abc79128>"
      ]
     },
     "execution_count": 19,
     "metadata": {},
     "output_type": "execute_result"
    },
    {
     "data": {
      "image/png": "[encoded data removed]",
      "text/plain": [
       "<Figure size 432x288 with 1 Axes>"
      ]
     },
     "metadata": {},
     "output_type": "display_data"
    }
   ],
   "source": [
    "orders.groupby([\"Order.Month\"])[[\"Quantity\"]].sum().plot()"
   ]
  },
  {
   "cell_type": "code",
   "execution_count": 35,
   "metadata": {},
   "outputs": [
    {
     "data": {
      "text/plain": [
       "<pandas.core.groupby.groupby.DataFrameGroupBy object at 0x00000184AC7FFF28>"
      ]
     },
     "execution_count": 35,
     "metadata": {},
     "output_type": "execute_result"
    }
   ],
   "source": [
    "orders.groupby(['Category'])"
   ]
  },
  {
   "cell_type": "code",
   "execution_count": 36,
   "metadata": {
    "scrolled": false
   },
   "outputs": [
    {
     "data": {
      "image/png": "[encoded data removed]",
      "text/plain": [
       "<Figure size 432x288 with 1 Axes>"
      ]
     },
     "metadata": {},
     "output_type": "display_data"
    }
   ],
   "source": [
    "for index, group in orders.groupby(['Category']):\n",
    "    group_agg = group.groupby(['Order.Month'])['Quantity'].sum()\n",
    "    group_agg.plot(y='Quantity', label=index, legend=True)"
   ]
  },
  {
   "cell_type": "code",
   "execution_count": 45,
   "metadata": {},
   "outputs": [
    {
     "data": {
      "text/plain": [
       "<matplotlib.axes._subplots.AxesSubplot at 0x184ac818ba8>"
      ]
     },
     "execution_count": 45,
     "metadata": {},
     "output_type": "execute_result"
    },
    {
     "data": {
      "text/plain": [
       "<Figure size 432x288 with 0 Axes>"
      ]
     },
     "metadata": {},
     "output_type": "display_data"
    },
    {
     "data": {
      "image/png": "[encoded data removed]",
      "text/plain": [
       "<Figure size 432x288 with 1 Axes>"
      ]
     },
     "metadata": {},
     "output_type": "display_data"
    }
   ],
   "source": [
    "import matplotlib\n",
    "matplotlib.style.use('ggplot')\n",
    "import matplotlib.pyplot as plt\n",
    "\n",
    "plt.figure()\n",
    "orders.groupby([\"Order.Month\",\"Category\"])[[\"Quantity\"]].sum().unstack().plot()"
   ]
  },
  {
   "cell_type": "markdown",
   "metadata": {},
   "source": [
    "### Problem 3: Why did customers make returns?\n",
    "- Your manager required you to give a brief report (**Plots + Interpretations**) on returned orders.\n",
    "\n",
    "\t1. How much profit did we lose due to returns each year?\n",
    "\n",
    "\n",
    "\t2. How many customer returned more than once? more than 5 times?\n",
    "\n",
    "\n",
    "\t3. Which regions are more likely to return orders?\n",
    "\n",
    "\n",
    "\t4. Which categories (sub-categories) of products are more likely to be returned?\n",
    "\n",
    "- ***Hint:*** Merge the **Returns** dataframe with the **Orders** dataframe using `Order.ID`."
   ]
  },
  {
   "cell_type": "code",
   "execution_count": 47,
   "metadata": {},
   "outputs": [
    {
     "data": {
      "text/plain": [
       "(1079, 3)"
      ]
     },
     "execution_count": 47,
     "metadata": {},
     "output_type": "execute_result"
    }
   ],
   "source": [
    "returns=pd.read_csv(\"Returns.csv\")\n",
    "#returns=returns.rename(columns = {'Order ID':'Order.ID'})\n",
    "returns.shape"
   ]
  },
  {
   "cell_type": "code",
   "execution_count": 48,
   "metadata": {},
   "outputs": [],
   "source": [
    "returns=returns.drop(\"Region\",axis=1)"
   ]
  },
  {
   "cell_type": "code",
   "execution_count": 56,
   "metadata": {},
   "outputs": [],
   "source": [
    "combined=pd.merge(orders,returns,left_on=\"Order.ID\", right_on=\"Order ID\",how=\"outer\")"
   ]
  },
  {
   "cell_type": "code",
   "execution_count": 61,
   "metadata": {},
   "outputs": [
    {
     "data": {
      "text/html": [
       "<div>\n",
       "<style scoped>\n",
       "    .dataframe tbody tr th:only-of-type {\n",
       "        vertical-align: middle;\n",
       "    }\n",
       "\n",
       "    .dataframe tbody tr th {\n",
       "        vertical-align: top;\n",
       "    }\n",
       "\n",
       "    .dataframe thead th {\n",
       "        text-align: right;\n",
       "    }\n",
       "</style>\n",
       "<table border=\"1\" class=\"dataframe\">\n",
       "  <thead>\n",
       "    <tr style=\"text-align: right;\">\n",
       "      <th></th>\n",
       "      <th>Profit</th>\n",
       "    </tr>\n",
       "    <tr>\n",
       "      <th>Order.Year</th>\n",
       "      <th></th>\n",
       "    </tr>\n",
       "  </thead>\n",
       "  <tbody>\n",
       "    <tr>\n",
       "      <th>2012</th>\n",
       "      <td>17477.26</td>\n",
       "    </tr>\n",
       "    <tr>\n",
       "      <th>2013</th>\n",
       "      <td>9269.89</td>\n",
       "    </tr>\n",
       "    <tr>\n",
       "      <th>2014</th>\n",
       "      <td>17510.63</td>\n",
       "    </tr>\n",
       "    <tr>\n",
       "      <th>2015</th>\n",
       "      <td>17112.97</td>\n",
       "    </tr>\n",
       "  </tbody>\n",
       "</table>\n",
       "</div>"
      ],
      "text/plain": [
       "              Profit\n",
       "Order.Year          \n",
       "2012        17477.26\n",
       "2013         9269.89\n",
       "2014        17510.63\n",
       "2015        17112.97"
      ]
     },
     "execution_count": 61,
     "metadata": {},
     "output_type": "execute_result"
    }
   ],
   "source": [
    "#1How much profit did we lose due to returns each year?\n",
    "combined[combined[\"Returned\"]==\"Yes\"][[\"Profit\",\"Order.Year\"]].groupby(\"Order.Year\").sum()"
   ]
  },
  {
   "cell_type": "code",
   "execution_count": 62,
   "metadata": {},
   "outputs": [],
   "source": [
    "#returned customers\n",
    "returned=combined[combined[\"Returned\"]==\"Yes\"]"
   ]
  },
  {
   "cell_type": "code",
   "execution_count": 63,
   "metadata": {},
   "outputs": [
    {
     "data": {
      "text/plain": [
       "46"
      ]
     },
     "execution_count": 63,
     "metadata": {},
     "output_type": "execute_result"
    }
   ],
   "source": [
    "#How many customer returned more than once? more than 5 times?\n",
    "returned.groupby(\"Customer.Name\").count().iloc[:,1].shape #593\n",
    "sum(returned.groupby(\"Customer.ID\")[\"Customer.ID\"].count()>5)#.iloc[:,1]>5) #124"
   ]
  },
  {
   "cell_type": "code",
   "execution_count": 64,
   "metadata": {},
   "outputs": [
    {
     "data": {
      "text/plain": [
       "(2220, 29)"
      ]
     },
     "execution_count": 64,
     "metadata": {},
     "output_type": "execute_result"
    }
   ],
   "source": [
    "returned.shape"
   ]
  },
  {
   "cell_type": "code",
   "execution_count": 65,
   "metadata": {},
   "outputs": [
    {
     "data": {
      "text/plain": [
       "Region\n",
       "Central America      248\n",
       "Western Europe       233\n",
       "Western US           177\n",
       "Oceania              154\n",
       "Southeastern Asia    140\n",
       "Eastern US           134\n",
       "South America        133\n",
       "Eastern Asia         131\n",
       "Southern Europe      112\n",
       "Southern Asia        111\n",
       "Western Asia         108\n",
       "Southern US           83\n",
       "Northern Europe       76\n",
       "Central US            74\n",
       "Caribbean             69\n",
       "Western Africa        60\n",
       "North Africa          51\n",
       "Eastern Europe        42\n",
       "Southern Africa       25\n",
       "Eastern Africa        18\n",
       "Central Africa        17\n",
       "Canada                15\n",
       "Central Asia           9\n",
       "Name: Region, dtype: int64"
      ]
     },
     "execution_count": 65,
     "metadata": {},
     "output_type": "execute_result"
    }
   ],
   "source": [
    "#Which regions are more likely to return orders?\n",
    "returned.groupby(\"Region\")[\"Region\"].count().sort_values(ascending=False)"
   ]
  },
  {
   "cell_type": "code",
   "execution_count": 66,
   "metadata": {},
   "outputs": [
    {
     "name": "stderr",
     "output_type": "stream",
     "text": [
      "C:\\Users\\samuelmao\\Anaconda3\\lib\\site-packages\\ipykernel_launcher.py:2: FutureWarning: 'Category' is both an index level and a column label.\n",
      "Defaulting to column, but this will raise an ambiguity error in a future version\n",
      "  \n"
     ]
    },
    {
     "data": {
      "text/html": [
       "<div>\n",
       "<style scoped>\n",
       "    .dataframe tbody tr th:only-of-type {\n",
       "        vertical-align: middle;\n",
       "    }\n",
       "\n",
       "    .dataframe tbody tr th {\n",
       "        vertical-align: top;\n",
       "    }\n",
       "\n",
       "    .dataframe thead th {\n",
       "        text-align: right;\n",
       "    }\n",
       "</style>\n",
       "<table border=\"1\" class=\"dataframe\">\n",
       "  <thead>\n",
       "    <tr style=\"text-align: right;\">\n",
       "      <th></th>\n",
       "      <th></th>\n",
       "      <th>Category</th>\n",
       "      <th>Sub.Category</th>\n",
       "    </tr>\n",
       "    <tr>\n",
       "      <th>Category</th>\n",
       "      <th>Sub.Category</th>\n",
       "      <th></th>\n",
       "      <th></th>\n",
       "    </tr>\n",
       "  </thead>\n",
       "  <tbody>\n",
       "    <tr>\n",
       "      <th rowspan=\"4\" valign=\"top\">Office Supplies</th>\n",
       "      <th>Binders</th>\n",
       "      <td>269</td>\n",
       "      <td>269</td>\n",
       "    </tr>\n",
       "    <tr>\n",
       "      <th>Art</th>\n",
       "      <td>217</td>\n",
       "      <td>217</td>\n",
       "    </tr>\n",
       "    <tr>\n",
       "      <th>Storage</th>\n",
       "      <td>212</td>\n",
       "      <td>212</td>\n",
       "    </tr>\n",
       "    <tr>\n",
       "      <th>Paper</th>\n",
       "      <td>150</td>\n",
       "      <td>150</td>\n",
       "    </tr>\n",
       "    <tr>\n",
       "      <th>Furniture</th>\n",
       "      <th>Chairs</th>\n",
       "      <td>147</td>\n",
       "      <td>147</td>\n",
       "    </tr>\n",
       "    <tr>\n",
       "      <th rowspan=\"2\" valign=\"top\">Technology</th>\n",
       "      <th>Phones</th>\n",
       "      <td>145</td>\n",
       "      <td>145</td>\n",
       "    </tr>\n",
       "    <tr>\n",
       "      <th>Accessories</th>\n",
       "      <td>138</td>\n",
       "      <td>138</td>\n",
       "    </tr>\n",
       "    <tr>\n",
       "      <th>Office Supplies</th>\n",
       "      <th>Labels</th>\n",
       "      <td>137</td>\n",
       "      <td>137</td>\n",
       "    </tr>\n",
       "    <tr>\n",
       "      <th rowspan=\"2\" valign=\"top\">Furniture</th>\n",
       "      <th>Furnishings</th>\n",
       "      <td>135</td>\n",
       "      <td>135</td>\n",
       "    </tr>\n",
       "    <tr>\n",
       "      <th>Bookcases</th>\n",
       "      <td>104</td>\n",
       "      <td>104</td>\n",
       "    </tr>\n",
       "    <tr>\n",
       "      <th rowspan=\"3\" valign=\"top\">Office Supplies</th>\n",
       "      <th>Supplies</th>\n",
       "      <td>103</td>\n",
       "      <td>103</td>\n",
       "    </tr>\n",
       "    <tr>\n",
       "      <th>Fasteners</th>\n",
       "      <td>102</td>\n",
       "      <td>102</td>\n",
       "    </tr>\n",
       "    <tr>\n",
       "      <th>Envelopes</th>\n",
       "      <td>99</td>\n",
       "      <td>99</td>\n",
       "    </tr>\n",
       "    <tr>\n",
       "      <th rowspan=\"2\" valign=\"top\">Technology</th>\n",
       "      <th>Copiers</th>\n",
       "      <td>99</td>\n",
       "      <td>99</td>\n",
       "    </tr>\n",
       "    <tr>\n",
       "      <th>Machines</th>\n",
       "      <td>63</td>\n",
       "      <td>63</td>\n",
       "    </tr>\n",
       "    <tr>\n",
       "      <th>Office Supplies</th>\n",
       "      <th>Appliances</th>\n",
       "      <td>59</td>\n",
       "      <td>59</td>\n",
       "    </tr>\n",
       "    <tr>\n",
       "      <th>Furniture</th>\n",
       "      <th>Tables</th>\n",
       "      <td>41</td>\n",
       "      <td>41</td>\n",
       "    </tr>\n",
       "  </tbody>\n",
       "</table>\n",
       "</div>"
      ],
      "text/plain": [
       "                              Category  Sub.Category\n",
       "Category        Sub.Category                        \n",
       "Office Supplies Binders            269           269\n",
       "                Art                217           217\n",
       "                Storage            212           212\n",
       "                Paper              150           150\n",
       "Furniture       Chairs             147           147\n",
       "Technology      Phones             145           145\n",
       "                Accessories        138           138\n",
       "Office Supplies Labels             137           137\n",
       "Furniture       Furnishings        135           135\n",
       "                Bookcases          104           104\n",
       "Office Supplies Supplies           103           103\n",
       "                Fasteners          102           102\n",
       "                Envelopes           99            99\n",
       "Technology      Copiers             99            99\n",
       "                Machines            63            63\n",
       "Office Supplies Appliances          59            59\n",
       "Furniture       Tables              41            41"
      ]
     },
     "execution_count": 66,
     "metadata": {},
     "output_type": "execute_result"
    }
   ],
   "source": [
    "#Which categories (sub-categories) of products are more likely to be returned?\n",
    "returned.groupby([\"Category\",\"Sub.Category\"])[[\"Category\",\"Sub.Category\"]].count().sort_values(by=\"Category\",ascending=False)"
   ]
  },
  {
   "cell_type": "markdown",
   "metadata": {},
   "source": [
    "## Part II: Machine Learning and Business Use Case\n",
    "\n",
    "Now your manager has a basic understanding of why customers returned orders. Next, he wants you to use machine learning to predict which orders are most likely to be returned. In this part, you will generate several features based on our previous findings and your manager's requirements.\n",
    "\n",
    "### Problem 4: Feature Engineering\n",
    "#### Step 1: Create the dependent variable\n",
    "- First of all, we need to generate a categorical variable which indicates whether an order has been returned or not.\n",
    "- ***Hint:*** the returned orders’ IDs are contained in the dataset “returns”\n"
   ]
  },
  {
   "cell_type": "code",
   "execution_count": 71,
   "metadata": {},
   "outputs": [
    {
     "data": {
      "text/plain": [
       "0        0\n",
       "1        0\n",
       "2        0\n",
       "3        0\n",
       "4        0\n",
       "5        0\n",
       "6        0\n",
       "7        0\n",
       "8        0\n",
       "9        0\n",
       "10       0\n",
       "11       0\n",
       "12       0\n",
       "13       0\n",
       "14       0\n",
       "15       0\n",
       "16       0\n",
       "17       0\n",
       "18       0\n",
       "19       0\n",
       "20       0\n",
       "21       0\n",
       "22       0\n",
       "23       0\n",
       "24       0\n",
       "25       0\n",
       "26       0\n",
       "27       0\n",
       "28       0\n",
       "29       0\n",
       "        ..\n",
       "51260    0\n",
       "51261    0\n",
       "51262    0\n",
       "51263    0\n",
       "51264    0\n",
       "51265    0\n",
       "51266    0\n",
       "51267    0\n",
       "51268    1\n",
       "51269    0\n",
       "51270    0\n",
       "51271    0\n",
       "51272    0\n",
       "51273    0\n",
       "51274    0\n",
       "51275    0\n",
       "51276    0\n",
       "51277    0\n",
       "51278    0\n",
       "51279    0\n",
       "51280    0\n",
       "51281    0\n",
       "51282    0\n",
       "51283    0\n",
       "51284    0\n",
       "51285    0\n",
       "51286    0\n",
       "51287    0\n",
       "51288    0\n",
       "51289    0\n",
       "Name: Returned, Length: 51290, dtype: uint8"
      ]
     },
     "execution_count": 71,
     "metadata": {},
     "output_type": "execute_result"
    }
   ],
   "source": [
    "#combined[\"Returned\"]=pd.get_dummies(combined[\"Returned\"])\n",
    "#combined=combined.rename(index=str, columns={\"Returned\": \"Not_returned\"})\n",
    "#combined.columns\n",
    "#combined[combined[\"Returned\"]<1]#=(combined[\"Returned\"]+2)\n",
    "combined[\"Returned\"]"
   ]
  },
  {
   "cell_type": "markdown",
   "metadata": {},
   "source": [
    "#### Step 2:\n",
    "- Your manager believes that **how long it took the order to ship** would affect whether the customer would return it or not. \n",
    "- He wants you to generate a feature which can measure how long it takes the company to process each order.\n",
    "- ***Hint:*** Process.Time = Ship.Date - Order.Date"
   ]
  },
  {
   "cell_type": "code",
   "execution_count": 72,
   "metadata": {},
   "outputs": [
    {
     "data": {
      "text/plain": [
       "0        2\n",
       "1        2\n",
       "2        2\n",
       "3        2\n",
       "4        2\n",
       "5        2\n",
       "6        1\n",
       "7        1\n",
       "8        1\n",
       "9        1\n",
       "10       1\n",
       "11       2\n",
       "12       1\n",
       "13       3\n",
       "14       3\n",
       "15       3\n",
       "16       3\n",
       "17       3\n",
       "18       2\n",
       "19       2\n",
       "20       4\n",
       "21       1\n",
       "22       1\n",
       "23       1\n",
       "24       3\n",
       "25       2\n",
       "26       2\n",
       "27       2\n",
       "28       2\n",
       "29       2\n",
       "        ..\n",
       "51260    5\n",
       "51261    6\n",
       "51262    5\n",
       "51263    5\n",
       "51264    5\n",
       "51265    4\n",
       "51266    2\n",
       "51267    5\n",
       "51268    4\n",
       "51269    6\n",
       "51270    6\n",
       "51271    6\n",
       "51272    2\n",
       "51273    6\n",
       "51274    0\n",
       "51275    0\n",
       "51276    5\n",
       "51277    5\n",
       "51278    5\n",
       "51279    5\n",
       "51280    6\n",
       "51281    6\n",
       "51282    1\n",
       "51283    3\n",
       "51284    5\n",
       "51285    2\n",
       "51286    5\n",
       "51287    0\n",
       "51288    4\n",
       "51289    4\n",
       "Name: Process.Time, Length: 51290, dtype: int64"
      ]
     },
     "execution_count": 72,
     "metadata": {},
     "output_type": "execute_result"
    }
   ],
   "source": [
    "combined[\"Process.Time\"]=combined[\"Ship.Date\"].dt.dayofyear-combined[\"Order.Date\"].dt.dayofyear\n",
    "combined[\"Process.Time\"]"
   ]
  },
  {
   "cell_type": "markdown",
   "metadata": {},
   "source": [
    "#### Step 3:\n",
    "\n",
    "- If a product has been returned before, it may be returned again. \n",
    "- Let us generate a feature indictes how many times the product has been returned before.\n",
    "- If it never got returned, we just impute using 0.\n",
    "- ***Hint:*** Group by different Product.ID"
   ]
  },
  {
   "cell_type": "code",
   "execution_count": 73,
   "metadata": {},
   "outputs": [
    {
     "data": {
      "text/plain": [
       "0         0\n",
       "1         0\n",
       "2         2\n",
       "3         1\n",
       "4         0\n",
       "5         0\n",
       "6         2\n",
       "7         1\n",
       "8         2\n",
       "9         3\n",
       "10        2\n",
       "11        0\n",
       "12        0\n",
       "13        1\n",
       "14        1\n",
       "15        0\n",
       "16        2\n",
       "17        0\n",
       "18        5\n",
       "19        1\n",
       "20        0\n",
       "21        1\n",
       "22        0\n",
       "23        0\n",
       "24        0\n",
       "25        0\n",
       "26        0\n",
       "27        1\n",
       "28        1\n",
       "29        1\n",
       "         ..\n",
       "51260     0\n",
       "51261     2\n",
       "51262     0\n",
       "51263     0\n",
       "51264     0\n",
       "51265     1\n",
       "51266     2\n",
       "51267     1\n",
       "51268     2\n",
       "51269    12\n",
       "51270     0\n",
       "51271     0\n",
       "51272     1\n",
       "51273     0\n",
       "51274     0\n",
       "51275     0\n",
       "51276     0\n",
       "51277     1\n",
       "51278     0\n",
       "51279     1\n",
       "51280     0\n",
       "51281     0\n",
       "51282     0\n",
       "51283     1\n",
       "51284     0\n",
       "51285     2\n",
       "51286     1\n",
       "51287     0\n",
       "51288     0\n",
       "51289     0\n",
       "Name: Times.returned, Length: 51290, dtype: uint8"
      ]
     },
     "execution_count": 73,
     "metadata": {},
     "output_type": "execute_result"
    }
   ],
   "source": [
    "combined[\"Times.returned\"]=combined.groupby(\"Product.ID\")[\"Returned\"].transform(\"sum\")\n",
    "combined[\"Times.returned\"]\n"
   ]
  },
  {
   "cell_type": "markdown",
   "metadata": {},
   "source": [
    "### Problem 5: Fitting Models\n",
    "\n",
    "- You can use any binary classification method you have learned so far.\n",
    "- Use 80/20 training and test splits to build your model. \n",
    "- Double check the column types before you fit the model.\n",
    "- Only include useful features. i.e all the `ID`s should be excluded from your training set.\n",
    "- Not that there are only less than 5% of the orders have been returned, so you should consider using the `createDataPartition` function from `caret` package that does a **stratified** random split of the data. Scikit-learn also has a [StratifiedKfold](http://scikit-learn.org/stable/modules/generated/sklearn.model_selection.StratifiedKFold.html#sklearn-model-selection-stratifiedkfold) function that does similar thing.\n",
    "- Do forget to `set.seed()` before the spilt to make your result reproducible.\n",
    "- **Note:** We are not looking for the best tuned model in the lab so don't spend too much time on grid search. Focus on model evaluation and the business use case of each model."
   ]
  },
  {
   "cell_type": "code",
   "execution_count": 83,
   "metadata": {},
   "outputs": [],
   "source": [
    "combined.columns[combined.isna().any()==True]#Postal.Code', 'Order ID\n",
    "#combined.drop([\"Postal.Code\",\"Order ID\"], axis = 1, inplace = True)\n",
    "combined.drop([\"Order.Date\",\"Ship.Date\"], axis = 1, inplace = True)"
   ]
  },
  {
   "cell_type": "code",
   "execution_count": 84,
   "metadata": {
    "scrolled": true
   },
   "outputs": [
    {
     "data": {
      "text/plain": [
       "Row.ID              int64\n",
       "Order.ID            int64\n",
       "Ship.Mode           int64\n",
       "Customer.ID         int64\n",
       "Customer.Name       int64\n",
       "Segment             int64\n",
       "City                int64\n",
       "State               int64\n",
       "Country             int64\n",
       "Region              int64\n",
       "Market              int64\n",
       "Product.ID          int64\n",
       "Category            int64\n",
       "Sub.Category        int64\n",
       "Product.Name        int64\n",
       "Sales             float64\n",
       "Quantity            int64\n",
       "Discount          float64\n",
       "Profit            float64\n",
       "Shipping.Cost     float64\n",
       "Order.Priority      int64\n",
       "Order.Year          int64\n",
       "Order.Month         int64\n",
       "Order.Day           int64\n",
       "Returned            uint8\n",
       "Process.Time        int64\n",
       "Times.returned      uint8\n",
       "dtype: object"
      ]
     },
     "execution_count": 84,
     "metadata": {},
     "output_type": "execute_result"
    }
   ],
   "source": [
    "combined.dtypes"
   ]
  },
  {
   "cell_type": "code",
   "execution_count": 80,
   "metadata": {},
   "outputs": [],
   "source": [
    "class LabelCountEncoder(object):\n",
    "    def __init__(self):\n",
    "        self.count_dict = {}\n",
    "    \n",
    "    def fit(self, column):\n",
    "        # This gives you a dictionary with level as the key and counts as the value\n",
    "        count = column.value_counts().to_dict()\n",
    "        # We want to rank the key by its value and use the rank as the new value\n",
    "        # Your code here\n",
    "        self.count_dict=dict(zip(count,range(len(count),0,-1)))\n",
    "        \n",
    "        \n",
    "    \n",
    "    def transform(self, column):\n",
    "        # If a category only appears in the test set, we will assign the value to zero.\n",
    "        missing = 0\n",
    "        # Your code here\n",
    "        return column.map(lambda x: self.count_dict.get(x,missing))\n",
    "        \n",
    "    \n",
    "    def fit_transform(self, column):\n",
    "        self.fit(column)\n",
    "        return self.transform(column)"
   ]
  },
  {
   "cell_type": "code",
   "execution_count": 81,
   "metadata": {},
   "outputs": [],
   "source": [
    "for c in combined.columns:\n",
    "    if combined[c].dtype == 'object':\n",
    "        lce = LabelCountEncoder()\n",
    "        combined[c] = lce.fit_transform(combined[c])"
   ]
  },
  {
   "cell_type": "code",
   "execution_count": 342,
   "metadata": {},
   "outputs": [],
   "source": [
    "# for c in combined.columns:\n",
    "#     if combined[c].dtype == 'datetime64[ns]':\n",
    "#         combined.drop([c], axis = 1, inplace = True)\n"
   ]
  },
  {
   "cell_type": "code",
   "execution_count": 343,
   "metadata": {},
   "outputs": [
    {
     "data": {
      "text/plain": [
       "Order.Date          int64\n",
       "Postal.Code       float64\n",
       "Sales             float64\n",
       "Quantity            int64\n",
       "Discount          float64\n",
       "Profit            float64\n",
       "Shipping.Cost     float64\n",
       "year                int64\n",
       "month               int64\n",
       "Returned            uint8\n",
       "Process.Time      float64\n",
       "Times.returned      uint8\n",
       "dtype: object"
      ]
     },
     "execution_count": 343,
     "metadata": {},
     "output_type": "execute_result"
    }
   ],
   "source": [
    "combined.dtypes"
   ]
  },
  {
   "cell_type": "code",
   "execution_count": 85,
   "metadata": {
    "scrolled": false
   },
   "outputs": [],
   "source": [
    "y=combined[\"Returned\"]\n",
    "x=combined.loc[:,combined.columns!=\"Returned\"]"
   ]
  },
  {
   "cell_type": "code",
   "execution_count": 97,
   "metadata": {
    "scrolled": true
   },
   "outputs": [
    {
     "name": "stdout",
     "output_type": "stream",
     "text": [
      "StratifiedKFold(n_splits=5, random_state=None, shuffle=False)\n"
     ]
    }
   ],
   "source": [
    "from sklearn.model_selection import StratifiedKFold\n",
    "X = x\n",
    "y = y\n",
    "skf = StratifiedKFold(n_splits=5)\n",
    "skf.get_n_splits(X, y)\n",
    "print(skf)  \n",
    "np.random.seed(1)\n",
    "# StratifiedKFold(n_splits=5, random_state=None, shuffle=False)\n",
    "for train_index, test_index in skf.split(X, y):\n",
    "    X_train, X_test = X.iloc[train_index], X.iloc[test_index]\n",
    "    y_train, y_test = y[train_index], y[test_index]\n",
    "\n",
    "\n",
    "\n"
   ]
  },
  {
   "cell_type": "code",
   "execution_count": 88,
   "metadata": {},
   "outputs": [],
   "source": [
    "from sklearn import linear_model\n",
    "logit_1 = linear_model.LogisticRegression()\n",
    "logit_1.set_params(C=1e4)\n",
    "logit_1.fit(X_train, y_train)\n",
    "y_predict = logit_1.predict(X_test)"
   ]
  },
  {
   "cell_type": "code",
   "execution_count": 89,
   "metadata": {},
   "outputs": [
    {
     "data": {
      "text/plain": [
       "array([[9811,    3],\n",
       "       [ 444,    0]], dtype=int64)"
      ]
     },
     "execution_count": 89,
     "metadata": {},
     "output_type": "execute_result"
    }
   ],
   "source": [
    "from sklearn.metrics import confusion_matrix, roc_auc_score\n",
    "confusion_matrix(y_test, y_predict)"
   ]
  },
  {
   "cell_type": "code",
   "execution_count": 90,
   "metadata": {
    "scrolled": true
   },
   "outputs": [
    {
     "data": {
      "text/plain": [
       "0.49984715712247807"
      ]
     },
     "execution_count": 90,
     "metadata": {},
     "output_type": "execute_result"
    }
   ],
   "source": [
    "roc_auc_score(y_test, y_predict)"
   ]
  },
  {
   "cell_type": "code",
   "execution_count": 91,
   "metadata": {},
   "outputs": [],
   "source": [
    "from sklearn.ensemble import RandomForestClassifier\n",
    "rf = RandomForestClassifier(n_estimators=1000, max_depth=9, class_weight='balanced', n_jobs=-1)\n",
    "rf.fit(X_train, y_train)\n",
    "y_predict = rf.predict(X_test)"
   ]
  },
  {
   "cell_type": "code",
   "execution_count": 92,
   "metadata": {},
   "outputs": [
    {
     "data": {
      "text/plain": [
       "array([[7384, 2430],\n",
       "       [ 122,  322]], dtype=int64)"
      ]
     },
     "execution_count": 92,
     "metadata": {},
     "output_type": "execute_result"
    }
   ],
   "source": [
    "confusion_matrix(y_test, y_predict)"
   ]
  },
  {
   "cell_type": "code",
   "execution_count": 93,
   "metadata": {},
   "outputs": [
    {
     "data": {
      "text/plain": [
       "0.7388098818198675"
      ]
     },
     "execution_count": 93,
     "metadata": {},
     "output_type": "execute_result"
    }
   ],
   "source": [
    "roc_auc_score(y_test, y_predict)"
   ]
  },
  {
   "cell_type": "markdown",
   "metadata": {},
   "source": [
    "### Problem 6: Evaluating Models\n",
    "- What is the best metric to evaluate your model. Is accuracy good for this case?\n",
    "- Now you have multiple models, which one would you pick? \n",
    "- Can you get any clue from the confusion matrix? What is the meaning of precision and recall in this case? Which one do you care the most? How will your model help the manager make decisions?\n",
    "- **Note:** The last question is open-ended. Your answer could be completely different depending on your understanding of this business problem."
   ]
  },
  {
   "cell_type": "code",
   "execution_count": null,
   "metadata": {},
   "outputs": [],
   "source": []
  }
 ],
 "metadata": {
  "kernelspec": {
   "display_name": "Python 3",
   "language": "python",
   "name": "python3"
  },
  "language_info": {
   "codemirror_mode": {
    "name": "ipython",
    "version": 3
   },
   "file_extension": ".py",
   "mimetype": "text/x-python",
   "name": "python",
   "nbconvert_exporter": "python",
   "pygments_lexer": "ipython3",
   "version": "3.6.5"
  }
 },
 "nbformat": 4,
 "nbformat_minor": 2
}
