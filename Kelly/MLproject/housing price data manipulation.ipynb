{
 "cells": [
  {
   "cell_type": "markdown",
   "metadata": {},
   "source": [
    "# Need to encode some fields based on their definition and drop the original"
   ]
  },
  {
   "cell_type": "code",
   "execution_count": 181,
   "metadata": {},
   "outputs": [],
   "source": [
    "import pandas as pd\n",
    "train = pd.read_csv(\"train.csv\")\n",
    "test = pd.read_csv(\"test.csv\")"
   ]
  },
  {
   "cell_type": "code",
   "execution_count": 182,
   "metadata": {},
   "outputs": [],
   "source": [
    "train['source'] = 'train'\n",
    "test['source'] = 'test'\n",
    "combine = pd.concat([train,test]).reset_index().drop('index', axis = 1)\n"
   ]
  },
  {
   "cell_type": "code",
   "execution_count": 183,
   "metadata": {},
   "outputs": [],
   "source": [
    "# reformat column Exterior1st and Exterior2nd\n",
    "ext1 = pd.get_dummies(combine.Exterior1st)\n",
    "ext2 = pd.get_dummies(combine.Exterior2nd).rename(columns={'Brk Cmn':'BrkComm', 'CmentBd':'CemntBd', 'Wd Shng':'WdShing'})\n",
    "ext = ext1.add(ext2, fill_value=0).astype('uint8').replace(2,1).add_prefix('ext_')  # combine ext1 and ext 2 and add a prefix \n",
    "combine = pd.concat([combine, ext], axis=1).drop(['Exterior1st', 'Exterior2nd'], axis=1)\n"
   ]
  },
  {
   "cell_type": "code",
   "execution_count": 184,
   "metadata": {},
   "outputs": [],
   "source": [
    "# combine BsmtFullBath, BsmtHalfBath (number of type of bathroom in the basement)\n",
    "combine['bathtot'] = train.BsmtFullBath + train.BsmtHalfBath * 0.5\n",
    "combine = combine.drop(['BsmtFullBath', 'BsmtHalfBath'], axis=1)"
   ]
  },
  {
   "cell_type": "code",
   "execution_count": 185,
   "metadata": {},
   "outputs": [],
   "source": [
    "# reformat PoolQC, PoolArea\n",
    "poolinfo = pd.concat([combine.PoolArea,  pd.get_dummies(combine.PoolQC)], axis =1) # df with dummified PoolQC columns + pool area\n",
    "pool = poolinfo.apply(lambda row: row.replace(1, row['PoolArea']), axis=1) # cast pool area into dummified columns\n",
    "combine = pd.concat([combine, pool], axis =1).drop(['PoolArea', 'PoolQC'], axis = 1)"
   ]
  },
  {
   "cell_type": "code",
   "execution_count": 211,
   "metadata": {},
   "outputs": [],
   "source": [
    "#BsmtFinType1, BsmtFinType2, BsmtFinSF1 (Type 1 finished square feet), BsmtFinSF2 (Type 1 finished square feet)\n",
    "#BsmtUnfSF: Unfinished square feet of basement area\n",
    "#TotalBsmtSF: Total square feet of basement area\n",
    "\n",
    "bsmt1info = pd.concat([combine.BsmtFinSF1, pd.get_dummies(combine.BsmtFinType1)], axis = 1) # df with dummified BsmtFinType1 columns + BsmtFinSF1\n",
    "bsmt1 = bsmt1info.apply(lambda row: row.replace(1, row['BsmtFinSF1']), axis = 1) # cast BsmtFinSF1 into dummified columns (unfinished ones will be handled in the BsmtFinType2 section since we are merging type 1 and type2 at the end)\n",
    "\n",
    "# merge in unfinished SF into BsmtFinSF2 column so all the unfinished can be cast onto the dummy\n",
    "combine.BsmtFinSF2 = combine[['BsmtFinSF2','BsmtUnfSF']].apply(lambda row: row.replace(0, row['BsmtUnfSF']), axis = 1)\n",
    "bsmt2info = pd.concat([combine.BsmtFinSF2, pd.get_dummies(combine.BsmtFinType2)], axis = 1)\n",
    "bsmt2 = bsmt2info.apply(lambda row: row.replace(1, row['BsmtFinSF2']), axis = 1)\n",
    "\n",
    "bsmt = bsmt1.add(bsmt2, fill_value=0).drop(['BsmtFinSF1','BsmtFinSF2'], axis = 1).add_prefix('bsmt_') # combine bsmt types and add prefix \n",
    "combine = pd.concat([combine, bsmt], axis = 1).drop(['BsmtFinSF1','BsmtFinSF2'], axis = 1)"
   ]
  },
  {
   "cell_type": "code",
   "execution_count": null,
   "metadata": {},
   "outputs": [],
   "source": [
    "#MasVnrType, MasVnrArea\n",
    "\n"
   ]
  },
  {
   "cell_type": "code",
   "execution_count": null,
   "metadata": {},
   "outputs": [],
   "source": [
    "#OpenPorchSF ( Open porch area in square feet)\n",
    "#EnclosedPorch (Enclosed porch area in square feet)\n",
    "#3SsnPorch (Three season porch area in square feet)\n",
    "#ScreenPorch (Screen porch area in square feet)\n",
    "????????????????"
   ]
  },
  {
   "cell_type": "code",
   "execution_count": null,
   "metadata": {},
   "outputs": [],
   "source": []
  },
  {
   "cell_type": "code",
   "execution_count": null,
   "metadata": {},
   "outputs": [],
   "source": []
  }
 ],
 "metadata": {
  "kernelspec": {
   "display_name": "Python 3",
   "language": "python",
   "name": "python3"
  },
  "language_info": {
   "codemirror_mode": {
    "name": "ipython",
    "version": 3
   },
   "file_extension": ".py",
   "mimetype": "text/x-python",
   "name": "python",
   "nbconvert_exporter": "python",
   "pygments_lexer": "ipython3",
   "version": "3.6.4"
  }
 },
 "nbformat": 4,
 "nbformat_minor": 2
}
