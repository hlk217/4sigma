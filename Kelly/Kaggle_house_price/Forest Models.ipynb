{
 "cells": [
  {
   "cell_type": "markdown",
   "metadata": {},
   "source": [
    "# Random Forest (regression)"
   ]
  },
  {
   "cell_type": "code",
   "execution_count": 1,
   "metadata": {},
   "outputs": [],
   "source": [
    "## import data\n",
    "import pandas as pd\n",
    "import numpy as np\n",
    "\n",
    "train = pd.read_csv(\"train.csv\").set_index(\"Id\")\n",
    "test = pd.read_csv(\"test.csv\").set_index(\"Id\")\n",
    "combine = pd.concat([train, test])\n",
    "\n",
    "# process data before model fitting\n",
    "from preprocess1 import impute\n",
    "fact, encodedDic = impute(combine, False)  # process data and label encode \n",
    "\n",
    "# seperate factorized data into train and test\n",
    "train_label = fact.iloc[0:1460,]\n",
    "test_label = fact.iloc[1460:2919,].drop('SalePrice', axis = 1) # salesprice col were all NA \n",
    "\n",
    "# split train data frame into x var and y var for model testing\n",
    "x_label = train_label.drop('SalePrice', axis=1)\n",
    "y_log = np.log(train_label.SalePrice)"
   ]
  },
  {
   "cell_type": "code",
   "execution_count": 2,
   "metadata": {
    "scrolled": false
   },
   "outputs": [
    {
     "data": {
      "text/plain": [
       "GridSearchCV(cv=5, error_score='raise',\n",
       "       estimator=RandomForestRegressor(bootstrap=True, criterion='mse', max_depth=None,\n",
       "           max_features='auto', max_leaf_nodes=None,\n",
       "           min_impurity_decrease=0.0, min_impurity_split=None,\n",
       "           min_samples_leaf=1, min_samples_split=2,\n",
       "           min_weight_fraction_leaf=0.0, n_estimators=10, n_jobs=1,\n",
       "           oob_score=False, random_state=None, verbose=0, warm_start=False),\n",
       "       fit_params=None, iid=True, n_jobs=-1,\n",
       "       param_grid=[{'n_estimators': array([100, 200, 300]), 'min_samples_leaf': range(10, 15), 'min_samples_split': array([ 2,  4,  6,  8, 10, 12, 14, 16, 18, 20, 22, 24, 26, 28, 30]), 'random_state': [42]}],\n",
       "       pre_dispatch='2*n_jobs', refit=True, return_train_score='warn',\n",
       "       scoring='neg_mean_squared_error', verbose=0)"
      ]
     },
     "execution_count": 2,
     "metadata": {},
     "output_type": "execute_result"
    }
   ],
   "source": [
    "from sklearn.model_selection import GridSearchCV\n",
    "\n",
    "randomForest = ensemble.RandomForestRegressor()\n",
    "grid_para_forest = [{\n",
    "    \"n_estimators\": np.arange(100, 400, 100),\n",
    "    \"min_samples_leaf\": range(10,15),\n",
    "    \"min_samples_split\": np.linspace(start=2, stop=30, num=15, dtype=int),\n",
    "    \"random_state\": [42]}]\n",
    "grid_search_forest = GridSearchCV(randomForest, grid_para_forest, scoring='neg_mean_squared_error', cv=5, n_jobs=-1)\n",
    "grid_search_forest.fit(x_label, y_log)"
   ]
  },
  {
   "cell_type": "code",
   "execution_count": 3,
   "metadata": {},
   "outputs": [
    {
     "name": "stdout",
     "output_type": "stream",
     "text": [
      "Best parameters found:  {'min_samples_leaf': 10, 'min_samples_split': 2, 'n_estimators': 300, 'random_state': 42}\n",
      "Lowest RMSE found:  0.1501241888269882\n"
     ]
    }
   ],
   "source": [
    "print(\"Best parameters found: \", grid_search_forest.best_params_)\n",
    "print(\"Lowest RMSE found: \", np.sqrt(np.abs(grid_search_forest.best_score_)))"
   ]
  },
  {
   "cell_type": "markdown",
   "metadata": {},
   "source": [
    "#### RMSE for all train data using best random forest"
   ]
  },
  {
   "cell_type": "code",
   "execution_count": 4,
   "metadata": {
    "scrolled": true
   },
   "outputs": [
    {
     "name": "stdout",
     "output_type": "stream",
     "text": [
      "RMSE:  0.00012110195560096155\n"
     ]
    }
   ],
   "source": [
    "# fit best random forest to all train data \n",
    "best_forest_y = grid_search_forest.best_estimator_.predict(x_label)\n",
    "print(\"RMSE: \", np.sqrt(np.mean(y_log-best_forest_y)**2))"
   ]
  },
  {
   "cell_type": "markdown",
   "metadata": {},
   "source": [
    "#### Feature importance"
   ]
  },
  {
   "cell_type": "code",
   "execution_count": 5,
   "metadata": {},
   "outputs": [],
   "source": [
    "import matplotlib.pyplot as plt\n",
    "pd.DataFrame(list(zip(x_label.columns, grid_search_forest.best_estimator_.feature_importances_ ))).set_index(0).sort_values(1).plot.barh()\n",
    "plt.rcParams['figure.figsize'] = 4, 32"
   ]
  },
  {
   "cell_type": "markdown",
   "metadata": {},
   "source": [
    "#### test prediction"
   ]
  },
  {
   "cell_type": "code",
   "execution_count": 16,
   "metadata": {},
   "outputs": [],
   "source": [
    "best_forest_test_y = grid_search_forest.best_estimator_.predict(test_label) \n",
    "best_forest_test_y = np.expm1(best_forest_test_y)\n",
    "sub = pd.DataFrame() \n",
    "sub['SalePrice'] = best_forest_test_y\n",
    "sub = sub.set_index(np.arange(1461, 2920))\n",
    "sub.to_csv('(5) forest_log(y)_label_submission.csv')"
   ]
  },
  {
   "cell_type": "markdown",
   "metadata": {},
   "source": [
    "# Extreme Gradient Boosting Random Forest (regression)"
   ]
  },
  {
   "cell_type": "code",
   "execution_count": null,
   "metadata": {},
   "outputs": [],
   "source": [
    "# !pip install xgboost"
   ]
  },
  {
   "cell_type": "code",
   "execution_count": 5,
   "metadata": {},
   "outputs": [
    {
     "data": {
      "text/plain": [
       "GridSearchCV(cv=5, error_score='raise',\n",
       "       estimator=XGBRegressor(base_score=0.5, booster='gbtree', colsample_bylevel=1,\n",
       "       colsample_bytree=1, gamma=0, learning_rate=0.1, max_delta_step=0,\n",
       "       max_depth=3, min_child_weight=1, missing=None, n_estimators=100,\n",
       "       n_jobs=1, nthread=None, objective='reg:linear', random_state=0,\n",
       "       reg_alpha=0, reg_lambda=1, scale_pos_weight=1, seed=None,\n",
       "       silent=True, subsample=1),\n",
       "       fit_params=None, iid=True, n_jobs=-1,\n",
       "       param_grid=[{'colsample_bytree': array([0.1, 0.2, 0.3, 0.4, 0.5, 0.6, 0.7, 0.8, 0.9]), 'max_depth': [2, 4, 6], 'n_estimators': array([500, 600, 700, 800, 900]), 'learning_rate': [0.001, 0.01, 0.1, 0.2, 0.3], 'random_state': [42]}],\n",
       "       pre_dispatch='2*n_jobs', refit=True, return_train_score='warn',\n",
       "       scoring='neg_mean_squared_error', verbose=0)"
      ]
     },
     "execution_count": 5,
     "metadata": {},
     "output_type": "execute_result"
    }
   ],
   "source": [
    "from sklearn.model_selection import GridSearchCV\n",
    "import xgboost as xgb\n",
    "xgbforest = xgb.XGBRegressor()\n",
    "grid_para_xgbforest = [{\n",
    "    \"colsample_bytree\": np.linspace(0.1, 0.9, 9),\n",
    "    'max_depth':[2, 4, 6],\n",
    "    \"n_estimators\": np.arange(500, 1000, 100),\n",
    "    \"learning_rate\": [0.001, 0.01, 0.1, 0.2, 0.3],\n",
    "    \"random_state\": [42]}]\n",
    "grid_search_xgbforest = GridSearchCV(estimator = xgbforest, param_grid = grid_para_xgbforest, \n",
    "                                     scoring = 'neg_mean_squared_error', cv = 5, n_jobs=-1)\n",
    "\n",
    "grid_search_xgbforest.fit(x_label, y_log)"
   ]
  },
  {
   "cell_type": "code",
   "execution_count": 6,
   "metadata": {},
   "outputs": [
    {
     "name": "stdout",
     "output_type": "stream",
     "text": [
      "Best parameters found:  {'colsample_bytree': 0.1, 'learning_rate': 0.1, 'max_depth': 2, 'n_estimators': 700, 'random_state': 42}\n",
      "Lowest RMSE found:  0.1200139613943591\n"
     ]
    }
   ],
   "source": [
    "print(\"Best parameters found: \", grid_search_xgbforest.best_params_)\n",
    "print(\"Lowest RMSE found: \", np.sqrt(np.abs(grid_search_xgbforest.best_score_)))"
   ]
  },
  {
   "cell_type": "markdown",
   "metadata": {},
   "source": [
    "#### RMSE for all train data using best gradient boost"
   ]
  },
  {
   "cell_type": "code",
   "execution_count": 7,
   "metadata": {},
   "outputs": [
    {
     "name": "stdout",
     "output_type": "stream",
     "text": [
      "RMSE:  3.4734747123886844e-06\n"
     ]
    }
   ],
   "source": [
    "# fit best XGB to all train data \n",
    "best_xgbforest_y = grid_search_xgbforest.best_estimator_.predict(x_label)\n",
    "print(\"RMSE: \", np.sqrt(np.mean(y_log-best_xgbforest_y)**2))"
   ]
  },
  {
   "cell_type": "markdown",
   "metadata": {},
   "source": [
    "#### Feature importance"
   ]
  },
  {
   "cell_type": "code",
   "execution_count": 9,
   "metadata": {},
   "outputs": [
    {
     "data": {
      "image/png": "[encoded data removed]",
      "text/plain": [
       "<matplotlib.figure.Figure at 0x1a17639b70>"
      ]
     },
     "metadata": {},
     "output_type": "display_data"
    }
   ],
   "source": [
    "import matplotlib.pyplot as plt\n",
    "pd.DataFrame(list(zip(x_label.columns, grid_search_xgbforest.best_estimator_.feature_importances_ ))).set_index(0).sort_values(1).plot.barh()\n",
    "plt.rcParams['figure.figsize'] = 4, 32"
   ]
  },
  {
   "cell_type": "markdown",
   "metadata": {},
   "source": [
    "#### test prediction"
   ]
  },
  {
   "cell_type": "code",
   "execution_count": 10,
   "metadata": {},
   "outputs": [],
   "source": [
    "best_xgb_test_y = grid_search_xgbforest.best_estimator_.predict(test_label) \n",
    "best_xgb_test_y = np.expm1(best_xgb_test_y)\n",
    "sub = pd.DataFrame() \n",
    "sub['SalePrice'] = best_xgb_test_y\n",
    "sub = sub.set_index(np.arange(1461, 2920))\n",
    "sub.to_csv('(4.1) xgb_log(y)_label_submission.csv')"
   ]
  },
  {
   "cell_type": "code",
   "execution_count": null,
   "metadata": {},
   "outputs": [],
   "source": [
    "#### submit original\n",
    "#### change to label encoding and submit\n",
    "#### change to onehot for yrsold and mosold"
   ]
  }
 ],
 "metadata": {
  "kernelspec": {
   "display_name": "Python 3",
   "language": "python",
   "name": "python3"
  },
  "language_info": {
   "codemirror_mode": {
    "name": "ipython",
    "version": 3
   },
   "file_extension": ".py",
   "mimetype": "text/x-python",
   "name": "python",
   "nbconvert_exporter": "python",
   "pygments_lexer": "ipython3",
   "version": "3.6.4"
  }
 },
 "nbformat": 4,
 "nbformat_minor": 2
}
