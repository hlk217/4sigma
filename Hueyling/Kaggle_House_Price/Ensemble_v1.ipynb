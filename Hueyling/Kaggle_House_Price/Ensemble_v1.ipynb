{
 "cells": [
  {
   "cell_type": "markdown",
   "metadata": {},
   "source": [
    "Models Compare and Ensemble the prediction"
   ]
  },
  {
   "cell_type": "code",
   "execution_count": 1,
   "metadata": {},
   "outputs": [],
   "source": [
    "import numpy as np\n",
    "import pandas as pd\n",
    "\n",
    "import math\n",
    "import re\n",
    "\n",
    "from matplotlib import pyplot as plt\n",
    "plt.style.use('ggplot')\n",
    "\n",
    "import seaborn as sns\n",
    "\n",
    "import warnings\n",
    "warnings.filterwarnings('ignore')\n",
    "\n",
    "pd.set_option('display.max_rows', 500)\n",
    "pd.set_option('display.max_columns', 500)\n",
    "pd.set_option('display.width', 1000)\n",
    "\n",
    "from sklearn.model_selection import train_test_split, KFold\n",
    "from sklearn.model_selection import cross_val_score\n",
    "\n",
    "\n",
    "from sklearn.linear_model import Lasso, LinearRegression as lr\n",
    "from sklearn.ensemble import GradientBoostingRegressor as gbr, RandomForestRegressor as rfr\n",
    "import xgboost as xgb\n",
    "from preprocess import impute\n",
    "\n",
    "from stacking import stacking_regression\n",
    "from sklearn.metrics import mean_squared_error\n",
    "\n",
    "\n",
    "import os\n",
    "os.environ['KMP_DUPLICATE_LIB_OK']='True'"
   ]
  },
  {
   "cell_type": "markdown",
   "metadata": {},
   "source": [
    "Import dataframe and models"
   ]
  },
  {
   "cell_type": "code",
   "execution_count": 2,
   "metadata": {},
   "outputs": [
    {
     "name": "stdout",
     "output_type": "stream",
     "text": [
      "(1460, 255)\n",
      "(1459, 255)\n"
     ]
    }
   ],
   "source": [
    "df_train = pd.read_csv('data/train.csv.gz', compression='gzip', header=0, sep=',', quotechar='\"')\n",
    "df_train_label = df_train[[\"Id\", \"SalePrice\"]]\n",
    "df_train = df_train.drop('SalePrice', axis=1)\n",
    "\n",
    "df_train = df_train.set_index(\"Id\")\n",
    "df_train_label = df_train_label.set_index(\"Id\")\n",
    "\n",
    "df_test = pd.read_csv('data/test.csv.gz', compression='gzip', header=0, sep=',', quotechar='\"')\n",
    "\n",
    "test_null_columns=df_test.columns[df_test.isnull().any()] \n",
    "train_null_columns=df_train.columns[df_train.isnull().any()] \n",
    "test_null_only_ColIdx = test_null_columns.difference(train_null_columns)\n",
    "\n",
    "test_null_only_RowIdx = [ df_test[df_test[idx].isnull()].index.tolist() for idx in test_null_only_ColIdx ]\n",
    "test_null_only_RowIdx = list ( set(x for l in test_null_only_RowIdx for x in l) )\n",
    "\n",
    "problematicTestSet = df_test.loc[ df_test.index.isin( test_null_only_RowIdx ) ]\n",
    "\n",
    "fineTestSet = df_test.loc[ ~df_test.index.isin( test_null_only_RowIdx ) ]  #1447 records\n",
    "\n",
    "problematicTestSet= problematicTestSet.set_index(\"Id\")\n",
    "fineTestSet = fineTestSet.set_index(\"Id\")\n",
    "df_test = df_test.set_index(\"Id\")\n",
    "\n",
    "df = pd.concat([df_train,df_test], axis=0, sort=True)\n",
    "\n",
    "problematicTestSet.index\n",
    "\n",
    "\n",
    "#After write everything as a function. This is how you call the impute function\n",
    "df_label_count, encodedDic = impute( df, False)  # label encode categorical data\n",
    "df_onehot, _ = impute( df, True)  # onehot encode categorical data\n",
    "\n",
    "df_test = df_onehot[df_onehot.index >= min(df_test.index)]\n",
    "df_train = df_onehot[df_onehot.index < min(df_test.index)]\n",
    "print( df_train.shape )\n",
    "print( df_test.shape )"
   ]
  },
  {
   "cell_type": "code",
   "execution_count": 3,
   "metadata": {},
   "outputs": [],
   "source": [
    "# split data into train and test sets\n",
    "#X_train, X_test, y_train, y_test = train_test_split(df_train, df_train_label, test_size=0.2, random_state=0)"
   ]
  },
  {
   "cell_type": "code",
   "execution_count": 4,
   "metadata": {},
   "outputs": [],
   "source": [
    "# Useful if you are debugging the function inside another .py script\n",
    "%load_ext autoreload\n",
    "%autoreload 2"
   ]
  },
  {
   "cell_type": "code",
   "execution_count": 5,
   "metadata": {},
   "outputs": [],
   "source": [
    "def rmsle(y, y_pred):\n",
    "    return np.sqrt(mean_squared_error(np.log(y), np.log(y_pred)))\n",
    "\n",
    "def rmse(y, y_pred):\n",
    "    return np.sqrt(mean_squared_error(y, y_pred))\n",
    "\n",
    "def evaluate(model, test_features, test_labels): \n",
    "    \n",
    "    predictions = model.predict(test_features).ravel() \n",
    "    residuals = test_labels - predictions\n",
    "    \n",
    "    rmse = np.sqrt(np.mean((test_labels - predictions) ** 2))\n",
    "    \n",
    "    rmsle = np.sqrt(np.mean((np.log1p(predictions) - np.log1p(test_labels))**2)) \n",
    "    \n",
    "    pred = pd.DataFrame( {'residuals': residuals.values, 'predictions': predictions} )\n",
    "    pred.set_index(residuals.index)\n",
    "    \n",
    "    return [rmse, rmsle, pred]"
   ]
  },
  {
   "cell_type": "code",
   "execution_count": 8,
   "metadata": {},
   "outputs": [],
   "source": [
    "models = [\n",
    "    \n",
    "    # conservative random forst model\n",
    "    rfr(random_state=0,\n",
    "        n_estimators=3000, max_depth=6,  max_features='sqrt'),\n",
    "    \n",
    "    # conservative gbm model\n",
    "    gbr(random_state=0, learning_rate = 0.005, max_features='sqrt',\n",
    "        min_samples_leaf=15, min_samples_split=10, \n",
    "        n_estimators=3000, max_depth=3),\n",
    "\n",
    "    # linear model, Lasso\n",
    "    Lasso(random_state=0),\n",
    "    \n",
    "    xgb.XGBRegressor(colsample_bytree=0.4603, gamma=0.0468, \n",
    "                             learning_rate=0.05, max_depth=3, \n",
    "                             min_child_weight=1.7817, n_estimators=2200,\n",
    "                             reg_alpha=0.4640, reg_lambda=0.8571,\n",
    "                             subsample=0.5213, silent=1,\n",
    "                             random_state =7, nthread = -1)\n",
    "    \n",
    "]\n",
    "\n",
    "#meta_model = lr(normalize=True)\n",
    "meta_model = Lasso(normalize=True)"
   ]
  },
  {
   "cell_type": "code",
   "execution_count": 9,
   "metadata": {},
   "outputs": [
    {
     "name": "stdout",
     "output_type": "stream",
     "text": [
      "metric: [rmsle]\n",
      "\n",
      "model 0: [RandomForestRegressor]\n",
      "    fold 0: [0.15645687]\n",
      "    fold 1: [0.17662361]\n",
      "    fold 2: [0.15304140]\n",
      "    ----\n",
      "    MEAN:   [0.16238059]\n",
      "\n",
      "model 1: [GradientBoostingRegressor]\n",
      "    fold 0: [0.11914925]\n",
      "    fold 1: [0.14023782]\n",
      "    fold 2: [0.12111389]\n",
      "    ----\n",
      "    MEAN:   [0.12719390]\n",
      "\n",
      "model 2: [Lasso]\n",
      "    fold 0: [0.25735691]\n",
      "    fold 1: [0.28118993]\n",
      "    fold 2: [0.26747606]\n",
      "    ----\n",
      "    MEAN:   [0.26885270]\n",
      "\n",
      "model 3: [XGBRegressor]\n",
      "    fold 0: [0.11725741]\n",
      "    fold 1: [0.13908155]\n",
      "    fold 2: [0.12660985]\n",
      "    ----\n",
      "    MEAN:   [0.12796320]\n",
      "\n",
      "CPU times: user 1min 21s, sys: 388 ms, total: 1min 22s\n",
      "Wall time: 41.6 s\n"
     ]
    }
   ],
   "source": [
    "%%time\n",
    "final_prediction = stacking_regression(models, meta_model, df_train.values, df_train_label.values, df_test.values,\n",
    "                               transform_target=np.log1p, transform_pred = np.expm1, \n",
    "                               metric=rmsle, verbose=2)"
   ]
  },
  {
   "cell_type": "code",
   "execution_count": 11,
   "metadata": {},
   "outputs": [],
   "source": [
    "d = {'SalePrice': final_prediction.reshape(-1)}\n",
    "sub = pd.DataFrame(data = d, dtype=np.int64, index = df_test.index )\n",
    "sub.to_csv('Stacking.csv')"
   ]
  },
  {
   "cell_type": "code",
   "execution_count": null,
   "metadata": {},
   "outputs": [],
   "source": []
  }
 ],
 "metadata": {
  "kernelspec": {
   "display_name": "Python 3",
   "language": "python",
   "name": "python3"
  },
  "language_info": {
   "codemirror_mode": {
    "name": "ipython",
    "version": 3
   },
   "file_extension": ".py",
   "mimetype": "text/x-python",
   "name": "python",
   "nbconvert_exporter": "python",
   "pygments_lexer": "ipython3",
   "version": "3.6.5"
  }
 },
 "nbformat": 4,
 "nbformat_minor": 2
}
