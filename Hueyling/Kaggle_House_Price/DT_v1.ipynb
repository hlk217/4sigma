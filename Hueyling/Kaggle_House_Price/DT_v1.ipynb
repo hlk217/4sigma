{
 "cells": [
  {
   "cell_type": "markdown",
   "metadata": {},
   "source": [
    "Decision Tree"
   ]
  },
  {
   "cell_type": "code",
   "execution_count": 23,
   "metadata": {},
   "outputs": [],
   "source": [
    "import numpy as np\n",
    "import pandas as pd\n",
    "from matplotlib import pyplot as plt\n",
    "plt.style.use('ggplot')\n",
    "\n",
    "import seaborn as sns\n",
    "\n",
    "import warnings\n",
    "warnings.filterwarnings('ignore')\n",
    "\n",
    "pd.set_option('display.max_rows', 500)\n",
    "pd.set_option('display.max_columns', 500)\n",
    "pd.set_option('display.width', 1000)\n"
   ]
  },
  {
   "cell_type": "markdown",
   "metadata": {},
   "source": [
    "Read Data"
   ]
  },
  {
   "cell_type": "code",
   "execution_count": 24,
   "metadata": {},
   "outputs": [
    {
     "data": {
      "text/plain": [
       "Int64Index([1556, 1916, 1946, 2121, 2152, 2189, 2217, 2251, 2474, 2490, 2577, 2905], dtype='int64', name='Id')"
      ]
     },
     "execution_count": 24,
     "metadata": {},
     "output_type": "execute_result"
    }
   ],
   "source": [
    "import numpy as np\n",
    "import pandas as pd\n",
    "import math\n",
    "import re\n",
    "\n",
    "from matplotlib import pyplot as plt\n",
    "plt.style.use('ggplot')\n",
    "\n",
    "import seaborn as sns\n",
    "\n",
    "import warnings\n",
    "warnings.filterwarnings('ignore')\n",
    "\n",
    "pd.set_option('display.max_rows', 500)\n",
    "pd.set_option('display.max_columns', 500)\n",
    "pd.set_option('display.width', 1000)\n",
    "\n",
    "\n",
    "df_train = pd.read_csv('data/train.csv.gz', compression='gzip', header=0, sep=',', quotechar='\"')\n",
    "df_train_label = df_train[[\"Id\", \"SalePrice\"]]\n",
    "df_train = df_train.drop('SalePrice', axis=1)\n",
    "\n",
    "df_train = df_train.set_index(\"Id\")\n",
    "df_train_label = df_train_label.set_index(\"Id\")\n",
    "\n",
    "df_test = pd.read_csv('data/test.csv.gz', compression='gzip', header=0, sep=',', quotechar='\"')\n",
    "\n",
    "test_null_columns=df_test.columns[df_test.isnull().any()] \n",
    "train_null_columns=df_train.columns[df_train.isnull().any()] \n",
    "test_null_only_ColIdx = test_null_columns.difference(train_null_columns)\n",
    "\n",
    "test_null_only_RowIdx = [ df_test[df_test[idx].isnull()].index.tolist() for idx in test_null_only_ColIdx ]\n",
    "test_null_only_RowIdx = list ( set(x for l in test_null_only_RowIdx for x in l) )\n",
    "\n",
    "problematicTestSet = df_test.loc[ df_test.index.isin( test_null_only_RowIdx ) ]\n",
    "\n",
    "fineTestSet = df_test.loc[ ~df_test.index.isin( test_null_only_RowIdx ) ]  #1447 records\n",
    "\n",
    "problematicTestSet= problematicTestSet.set_index(\"Id\")\n",
    "fineTestSet = fineTestSet.set_index(\"Id\")\n",
    "df_test = df_test.set_index(\"Id\")\n",
    "\n",
    "df = pd.concat([df_train,df_test], axis=0, sort=True)\n",
    "\n",
    "problematicTestSet.index"
   ]
  },
  {
   "cell_type": "markdown",
   "metadata": {},
   "source": [
    "Impute Data with preprocess.py subfunction"
   ]
  },
  {
   "cell_type": "code",
   "execution_count": 25,
   "metadata": {},
   "outputs": [],
   "source": [
    "from preprocess import impute\n",
    "#label encode\n",
    "#df_label_count, encodedDic = impute( df, False) \n",
    "#df_test = df_label_count[df_label_count.index >= min(df_test.index)]\n",
    "#df_train = df_label_count[df_label_count.index < min(df_test.index)]\n",
    "#onehot encode\n",
    "df_onehot, _ = impute( df, True) \n",
    "df_test = df_onehot[df_onehot.index >= min(df_test.index)]\n",
    "df_train = df_onehot[df_onehot.index < min(df_test.index)]"
   ]
  },
  {
   "cell_type": "code",
   "execution_count": 26,
   "metadata": {},
   "outputs": [],
   "source": [
    "df_train_label = df_train_label.astype(int)\n",
    "df_train_label_log = np.log( df_train_label )\n",
    "#df_train_label.hist()\n",
    "#df_train_label_log.hist()"
   ]
  },
  {
   "cell_type": "code",
   "execution_count": 27,
   "metadata": {},
   "outputs": [],
   "source": [
    "from sklearn.model_selection import train_test_split\n",
    "from sklearn.metrics import mean_squared_error\n",
    "\n",
    "# split data into train and test sets\n",
    "X_train, X_test, y_train, y_test = train_test_split(df_train, df_train_label_log, test_size=0.2, random_state=0)"
   ]
  },
  {
   "cell_type": "code",
   "execution_count": 28,
   "metadata": {
    "scrolled": true
   },
   "outputs": [
    {
     "name": "stdout",
     "output_type": "stream",
     "text": [
      "0.18484485050148983\n",
      "0.02340458815313157\n"
     ]
    },
    {
     "data": {
      "text/plain": [
       "array([0.18698451, 0.16169606, 0.19361378, 0.23949329, 0.20520328,\n",
       "       0.17610829, 0.15817062, 0.17109899, 0.19200557, 0.1640741 ])"
      ]
     },
     "execution_count": 28,
     "metadata": {},
     "output_type": "execute_result"
    }
   ],
   "source": [
    "from sklearn.tree import DecisionTreeRegressor\n",
    "from sklearn.model_selection import cross_val_score\n",
    "\n",
    "#of instances per leaf = 5\n",
    "regression_model = DecisionTreeRegressor(criterion=\"mse\", min_samples_leaf=5, random_state=0) \n",
    "cvrmse = np.sqrt(-cross_val_score( regression_model, df_train, df_train_label_log, scoring=\"neg_mean_squared_error\", cv = 10) )\n",
    "print( cvrmse.mean() )\n",
    "print( cvrmse.std() )\n",
    "cvrmse"
   ]
  },
  {
   "cell_type": "code",
   "execution_count": 29,
   "metadata": {},
   "outputs": [],
   "source": [
    "def evaluate(model, test_features, test_labels): \n",
    "    \n",
    "    predictions = model.predict(test_features).ravel() \n",
    "    residuals = test_labels - predictions\n",
    "    \n",
    "    rmse = np.sqrt(np.mean((test_labels - predictions) ** 2))\n",
    "    \n",
    "    rmsle = np.sqrt(np.mean((np.log1p(predictions) - np.log1p(test_labels))**2)) \n",
    "    \n",
    "    pred = pd.DataFrame( {'residuals': residuals.values, 'predictions': predictions} )\n",
    "    pred.set_index(residuals.index)\n",
    "    \n",
    "    return [rmse, rmsle, pred]"
   ]
  },
  {
   "cell_type": "code",
   "execution_count": 30,
   "metadata": {},
   "outputs": [],
   "source": [
    "# Fit the Decision Tree model\n",
    "dt = regression_model.fit(df_train, df_train_label_log)\n"
   ]
  },
  {
   "cell_type": "code",
   "execution_count": 31,
   "metadata": {},
   "outputs": [
    {
     "name": "stdout",
     "output_type": "stream",
     "text": [
      "RMSE = 0.1081\n",
      "RMSLE = 0.0083\n"
     ]
    },
    {
     "data": {
      "text/plain": [
       "<seaborn.axisgrid.JointGrid at 0x1a152307b8>"
      ]
     },
     "execution_count": 31,
     "metadata": {},
     "output_type": "execute_result"
    },
    {
     "data": {
      "image/png": "[encoded data removed]",
      "text/plain": [
       "<Figure size 432x432 with 3 Axes>"
      ]
     },
     "metadata": {},
     "output_type": "display_data"
    }
   ],
   "source": [
    "rmse, rmsle, pred = evaluate(dt, X_test, y_test['SalePrice'] )\n",
    "print('RMSE = {:0.4f}'.format(rmse))\n",
    "print('RMSLE = {:0.4f}'.format(rmsle))\n",
    "sns.jointplot(x = \"predictions\", y = \"residuals\",  data=pred )"
   ]
  },
  {
   "cell_type": "code",
   "execution_count": 32,
   "metadata": {},
   "outputs": [],
   "source": [
    "d = {  'SalePrice': np.expm1 ( dt.predict(df_test) )    }\n",
    "sub = pd.DataFrame(data = d, dtype=np.int64, index = df_test.index )\n",
    "sub.to_csv('tree.csv')"
   ]
  },
  {
   "cell_type": "code",
   "execution_count": 28,
   "metadata": {},
   "outputs": [],
   "source": [
    "import pickle\n",
    "with open('tree.pkl', 'wb') as handle:\n",
    "    pickle.dump(dt, handle, protocol=pickle.HIGHEST_PROTOCOL)"
   ]
  }
 ],
 "metadata": {
  "kernelspec": {
   "display_name": "Python 3",
   "language": "python",
   "name": "python3"
  },
  "language_info": {
   "codemirror_mode": {
    "name": "ipython",
    "version": 3
   },
   "file_extension": ".py",
   "mimetype": "text/x-python",
   "name": "python",
   "nbconvert_exporter": "python",
   "pygments_lexer": "ipython3",
   "version": "3.6.5"
  }
 },
 "nbformat": 4,
 "nbformat_minor": 2
}
